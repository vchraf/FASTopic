{
 "cells": [
  {
   "cell_type": "code",
   "execution_count": 1,
   "id": "341fa75a",
   "metadata": {
    "execution": {
     "iopub.execute_input": "2022-07-15T10:08:55.871295Z",
     "iopub.status.busy": "2022-07-15T10:08:55.870548Z",
     "iopub.status.idle": "2022-07-15T10:08:55.899828Z",
     "shell.execute_reply": "2022-07-15T10:08:55.900394Z"
    },
    "jupyter": {
     "source_hidden": true
    },
    "papermill": {
     "duration": 0.146884,
     "end_time": "2022-07-15T10:08:55.900575",
     "exception": false,
     "start_time": "2022-07-15T10:08:55.753691",
     "status": "completed"
    },
    "tags": [
     "injected-parameters"
    ]
   },
   "outputs": [],
   "source": [
    "# Parameters\n",
    "msgs = \"Ran from Airflow at 2022-07-09T04:00:00+00:00!\"\n"
   ]
  },
  {
   "cell_type": "code",
   "execution_count": 2,
   "id": "96b9631a",
   "metadata": {
    "execution": {
     "iopub.execute_input": "2022-07-15T10:08:56.000254Z",
     "iopub.status.busy": "2022-07-15T10:08:55.999512Z",
     "iopub.status.idle": "2022-07-15T10:08:58.957976Z",
     "shell.execute_reply": "2022-07-15T10:08:58.957379Z"
    },
    "jupyter": {
     "source_hidden": true
    },
    "papermill": {
     "duration": 3.0231,
     "end_time": "2022-07-15T10:08:58.958111",
     "exception": false,
     "start_time": "2022-07-15T10:08:55.935011",
     "status": "completed"
    },
    "tags": []
   },
   "outputs": [],
   "source": [
    "import os\n",
    "import requests\n",
    "import urllib.request\n",
    "import urllib.parse\n",
    "import json\n",
    "import re\n",
    "import collections\n",
    "import pandas as pd\n",
    "import bs4\n",
    "from bs4 import BeautifulSoup\n",
    "import dateparser\n",
    "from datetime import datetime\n",
    "import numpy as np"
   ]
  },
  {
   "cell_type": "code",
   "execution_count": 3,
   "id": "f8057fc1",
   "metadata": {
    "execution": {
     "iopub.execute_input": "2022-07-15T10:08:59.050854Z",
     "iopub.status.busy": "2022-07-15T10:08:59.050102Z",
     "iopub.status.idle": "2022-07-15T10:08:59.052021Z",
     "shell.execute_reply": "2022-07-15T10:08:59.051471Z"
    },
    "jupyter": {
     "source_hidden": true
    },
    "papermill": {
     "duration": 0.057341,
     "end_time": "2022-07-15T10:08:59.052145",
     "exception": false,
     "start_time": "2022-07-15T10:08:58.994804",
     "status": "completed"
    },
    "tags": []
   },
   "outputs": [],
   "source": [
    "ID = \"001\"\n",
    "SITE = \"journaldusenegal.com\""
   ]
  },
  {
   "cell_type": "code",
   "execution_count": 4,
   "id": "008626af",
   "metadata": {
    "execution": {
     "iopub.execute_input": "2022-07-15T10:08:59.144519Z",
     "iopub.status.busy": "2022-07-15T10:08:59.143766Z",
     "iopub.status.idle": "2022-07-15T10:08:59.145661Z",
     "shell.execute_reply": "2022-07-15T10:08:59.145120Z"
    },
    "jupyter": {
     "source_hidden": true
    },
    "papermill": {
     "duration": 0.066631,
     "end_time": "2022-07-15T10:08:59.153466",
     "exception": false,
     "start_time": "2022-07-15T10:08:59.086835",
     "status": "completed"
    },
    "tags": []
   },
   "outputs": [],
   "source": [
    "categories = [\"politique\",\"eco-et-business\",\"societe\",\"sport\",\"culture\",\"sante\",\"opinions\",\"personnalites\",\"dossiers\",\"international\"]"
   ]
  },
  {
   "cell_type": "code",
   "execution_count": 5,
   "id": "c7c458f5",
   "metadata": {
    "execution": {
     "iopub.execute_input": "2022-07-15T10:08:59.210040Z",
     "iopub.status.busy": "2022-07-15T10:08:59.209187Z",
     "iopub.status.idle": "2022-07-15T10:08:59.211317Z",
     "shell.execute_reply": "2022-07-15T10:08:59.210720Z"
    },
    "jupyter": {
     "source_hidden": true
    },
    "papermill": {
     "duration": 0.029711,
     "end_time": "2022-07-15T10:08:59.211439",
     "exception": false,
     "start_time": "2022-07-15T10:08:59.181728",
     "status": "completed"
    },
    "tags": []
   },
   "outputs": [],
   "source": [
    "def parseDate(date):\n",
    "    try:\n",
    "        return dateparser.parse(date, languages=['fr'])\n",
    "    except:\n",
    "        return dateparser.parse(date)"
   ]
  },
  {
   "cell_type": "code",
   "execution_count": 6,
   "id": "a357d3e7",
   "metadata": {
    "execution": {
     "iopub.execute_input": "2022-07-15T10:08:59.258924Z",
     "iopub.status.busy": "2022-07-15T10:08:59.258062Z",
     "iopub.status.idle": "2022-07-15T10:08:59.260214Z",
     "shell.execute_reply": "2022-07-15T10:08:59.259606Z"
    },
    "jupyter": {
     "source_hidden": true
    },
    "papermill": {
     "duration": 0.029745,
     "end_time": "2022-07-15T10:08:59.260344",
     "exception": false,
     "start_time": "2022-07-15T10:08:59.230599",
     "status": "completed"
    },
    "tags": []
   },
   "outputs": [],
   "source": [
    "def getWebPage(URL):\n",
    "    headers = {'User-Agent': 'Mozilla/5.0 (Macintosh; Intel Mac OS X 10_10_1) AppleWebKit/537.36 (KHTML, like Gecko) Chrome/39.0.2171.95 Safari/537.36'}\n",
    "    page  = requests.get(URL,headers)\n",
    "    return BeautifulSoup(page.text, \"html.parser\")"
   ]
  },
  {
   "cell_type": "code",
   "execution_count": 7,
   "id": "12edc2e4",
   "metadata": {
    "execution": {
     "iopub.execute_input": "2022-07-15T10:08:59.352763Z",
     "iopub.status.busy": "2022-07-15T10:08:59.351942Z",
     "iopub.status.idle": "2022-07-15T10:08:59.358692Z",
     "shell.execute_reply": "2022-07-15T10:08:59.359301Z"
    },
    "jupyter": {
     "source_hidden": true
    },
    "papermill": {
     "duration": 0.060858,
     "end_time": "2022-07-15T10:08:59.359465",
     "exception": false,
     "start_time": "2022-07-15T10:08:59.298607",
     "status": "completed"
    },
    "tags": []
   },
   "outputs": [],
   "source": [
    "def getArticleTitle(HTML):       \n",
    "  h = HTML.find_all(\"h1\")\n",
    "  return str(h[0].text).replace(\"\\n\",\"\").replace(\"\\t\", \"\").replace(\"\\r\", \"\")"
   ]
  },
  {
   "cell_type": "code",
   "execution_count": 8,
   "id": "1dc0ce75",
   "metadata": {
    "execution": {
     "iopub.execute_input": "2022-07-15T10:08:59.477266Z",
     "iopub.status.busy": "2022-07-15T10:08:59.475925Z",
     "iopub.status.idle": "2022-07-15T10:08:59.477980Z",
     "shell.execute_reply": "2022-07-15T10:08:59.476593Z"
    },
    "jupyter": {
     "source_hidden": true
    },
    "papermill": {
     "duration": 0.05883,
     "end_time": "2022-07-15T10:08:59.478118",
     "exception": false,
     "start_time": "2022-07-15T10:08:59.419288",
     "status": "completed"
    },
    "tags": []
   },
   "outputs": [],
   "source": [
    "def getArticleContent(HTML):\n",
    "  h = HTML.find_all(\"div\", {\"class\": \"post-content\"})[0].find_all(\"p\")\n",
    "  return \" \".join([i.text for i in h])"
   ]
  },
  {
   "cell_type": "code",
   "execution_count": 9,
   "id": "8a9ebde6",
   "metadata": {
    "execution": {
     "iopub.execute_input": "2022-07-15T10:08:59.571632Z",
     "iopub.status.busy": "2022-07-15T10:08:59.568565Z",
     "iopub.status.idle": "2022-07-15T10:08:59.572475Z",
     "shell.execute_reply": "2022-07-15T10:08:59.572990Z"
    },
    "jupyter": {
     "source_hidden": true
    },
    "papermill": {
     "duration": 0.04871,
     "end_time": "2022-07-15T10:08:59.573120",
     "exception": false,
     "start_time": "2022-07-15T10:08:59.524410",
     "status": "completed"
    },
    "tags": []
   },
   "outputs": [],
   "source": [
    "def getArticleAuthor(HTML):\n",
    "    try:\n",
    "        h = HTML.find_all(\"header\", {\"class\": \"entry-header\"})[0].find_all(\"span\", {\"class\": \"byline\"})\n",
    "        return h[0].text[3:]\n",
    "    except: return \"\""
   ]
  },
  {
   "cell_type": "code",
   "execution_count": 10,
   "id": "bd94f84f",
   "metadata": {
    "execution": {
     "iopub.execute_input": "2022-07-15T10:08:59.655926Z",
     "iopub.status.busy": "2022-07-15T10:08:59.654587Z",
     "iopub.status.idle": "2022-07-15T10:08:59.658788Z",
     "shell.execute_reply": "2022-07-15T10:08:59.655316Z"
    },
    "jupyter": {
     "source_hidden": true
    },
    "papermill": {
     "duration": 0.04672,
     "end_time": "2022-07-15T10:08:59.658923",
     "exception": false,
     "start_time": "2022-07-15T10:08:59.612203",
     "status": "completed"
    },
    "tags": []
   },
   "outputs": [],
   "source": [
    "def getArticleDate(HTML):\n",
    "    try:\n",
    "        h = HTML.find_all(\"div\", {\"class\": \"post-infos clearfix\"})[0]\n",
    "        h = str(h.text).replace(\"\\n\",\"\").replace(\"\\t\", \"\").replace(\"\\r\", \"\")\n",
    "        return h[h.find('le')+2: h.find('à')].strip()\n",
    "    except: return \"\""
   ]
  },
  {
   "cell_type": "code",
   "execution_count": 11,
   "id": "6871f056",
   "metadata": {
    "execution": {
     "iopub.execute_input": "2022-07-15T10:08:59.787696Z",
     "iopub.status.busy": "2022-07-15T10:08:59.786949Z",
     "iopub.status.idle": "2022-07-15T10:08:59.791625Z",
     "shell.execute_reply": "2022-07-15T10:08:59.792150Z"
    },
    "jupyter": {
     "source_hidden": true
    },
    "papermill": {
     "duration": 0.069708,
     "end_time": "2022-07-15T10:08:59.792307",
     "exception": false,
     "start_time": "2022-07-15T10:08:59.722599",
     "status": "completed"
    },
    "tags": []
   },
   "outputs": [],
   "source": [
    "def getLinks(category, index):\n",
    "    page = getWebPage(f'https://www.journaldusenegal.com/category/{category}/page/{index}/')\n",
    "    _links = page.find_all(\"ul\", {\"class\", \"list-post list-full\"})\n",
    "    if len(_links) == 0: return []\n",
    "    _links = [i['href'] for i in [i.find('a', href=True) for i in _links[0].find_all(\"li\")] if isinstance(i,bs4.element.Tag)]\n",
    "    return _links"
   ]
  },
  {
   "cell_type": "code",
   "execution_count": 12,
   "id": "d09e6346",
   "metadata": {
    "execution": {
     "iopub.execute_input": "2022-07-15T10:08:59.932297Z",
     "iopub.status.busy": "2022-07-15T10:08:59.931411Z",
     "iopub.status.idle": "2022-07-15T10:08:59.933089Z",
     "shell.execute_reply": "2022-07-15T10:08:59.933639Z"
    },
    "jupyter": {
     "source_hidden": true
    },
    "papermill": {
     "duration": 0.095441,
     "end_time": "2022-07-15T10:08:59.933788",
     "exception": false,
     "start_time": "2022-07-15T10:08:59.838347",
     "status": "completed"
    },
    "tags": []
   },
   "outputs": [],
   "source": [
    "def getNewLinks(category, checkPoint):\n",
    "    index = 1\n",
    "    links = []\n",
    "    while(True):\n",
    "        _links = getLinks(category, index)\n",
    "        if _links == []:return links\n",
    "        if checkPoint[0] in _links or checkPoint[1] in _links:\n",
    "            try:\n",
    "                lastIndex = _links.index(checkPoint[0])\n",
    "            except: lastIndex = _links.index(checkPoint[0])\n",
    "            if lastIndex == 0:\n",
    "                return []\n",
    "            else:\n",
    "                links.extend(_links)\n",
    "                return links[:lastIndex]\n",
    "        else:\n",
    "            links.extend(_links)\n",
    "            index+=1\n",
    "    return links     "
   ]
  },
  {
   "cell_type": "code",
   "execution_count": 13,
   "id": "f57dc0cd",
   "metadata": {
    "execution": {
     "iopub.execute_input": "2022-07-15T10:09:00.041133Z",
     "iopub.status.busy": "2022-07-15T10:09:00.040353Z",
     "iopub.status.idle": "2022-07-15T10:09:00.045048Z",
     "shell.execute_reply": "2022-07-15T10:09:00.041778Z"
    },
    "jupyter": {
     "source_hidden": true
    },
    "papermill": {
     "duration": 0.034744,
     "end_time": "2022-07-15T10:09:00.045179",
     "exception": false,
     "start_time": "2022-07-15T10:09:00.010435",
     "status": "completed"
    },
    "tags": []
   },
   "outputs": [],
   "source": [
    "def updateJson(path, key, value):\n",
    "    if not os.path.exists(path):\n",
    "        _data = {key:[]}\n",
    "    else:\n",
    "        try:\n",
    "            jsonFile = open(path, \"r\",encoding='utf-8')\n",
    "            _data = json.load(jsonFile)\n",
    "            jsonFile.close()\n",
    "        except:\n",
    "            print(\"error UpdateJson\")\n",
    "    _data[key].append(value)\n",
    "    jsonFile = open(path, \"w+\", encoding ='utf-8')\n",
    "    jsonFile.write(json.dumps(_data, default=str))\n",
    "    jsonFile.close()"
   ]
  },
  {
   "cell_type": "code",
   "execution_count": 14,
   "id": "028758b5",
   "metadata": {
    "execution": {
     "iopub.execute_input": "2022-07-15T10:09:00.129559Z",
     "iopub.status.busy": "2022-07-15T10:09:00.112107Z",
     "iopub.status.idle": "2022-07-15T10:09:00.130704Z",
     "shell.execute_reply": "2022-07-15T10:09:00.131224Z"
    },
    "jupyter": {
     "source_hidden": true
    },
    "papermill": {
     "duration": 0.069391,
     "end_time": "2022-07-15T10:09:00.131373",
     "exception": false,
     "start_time": "2022-07-15T10:09:00.061982",
     "status": "completed"
    },
    "tags": []
   },
   "outputs": [],
   "source": [
    "def getArticle(link,category):\n",
    "        try:\n",
    "            p = getWebPage(link)\n",
    "            _title      = getArticleTitle(p)\n",
    "            _article    = getArticleContent(p)\n",
    "            _date       = getArticleDate(p)\n",
    "            _author     = \"\"\n",
    "            _commments  = \"\"\n",
    "            return [1,{'DATE_SCRAPING':str(datetime.today()),\n",
    "                  'DATE':parseDate(_date),\n",
    "                  'DATE_ARTICLE':_date,\n",
    "                  'CATEGORY':category,\n",
    "                  'URL':link,\n",
    "                  \"AUTEUR\":_author,\n",
    "                  \"TITRE\":_title,\n",
    "                  \"SITE\":SITE,\n",
    "                  \"CONTENU\":_article,\n",
    "                  \"COMMENTAIRES\":_commments,}]\n",
    "        except:\n",
    "            return [0,link]"
   ]
  },
  {
   "cell_type": "code",
   "execution_count": 15,
   "id": "bebd1502",
   "metadata": {
    "execution": {
     "iopub.execute_input": "2022-07-15T10:09:00.303683Z",
     "iopub.status.busy": "2022-07-15T10:09:00.294963Z",
     "iopub.status.idle": "2022-07-15T10:09:00.304468Z",
     "shell.execute_reply": "2022-07-15T10:09:00.301750Z"
    },
    "jupyter": {
     "source_hidden": true
    },
    "papermill": {
     "duration": 0.093069,
     "end_time": "2022-07-15T10:09:00.304614",
     "exception": false,
     "start_time": "2022-07-15T10:09:00.211545",
     "status": "completed"
    },
    "tags": []
   },
   "outputs": [],
   "source": [
    "def saveArticle(document):\n",
    "    Y = document[\"DATE\"].year\n",
    "    M = document[\"DATE\"].month\n",
    "    if not os.path.exists(f\"/data/notebooks/DB/DATA/{Y}\"):\n",
    "        os.mkdir(f\"/data/notebooks/DB/DATA/{Y}\") \n",
    "    if not os.path.exists(f\"/data/notebooks/DB/DATA/{Y}/{M}\"):\n",
    "        os.mkdir(f\"/data/notebooks/DB/DATA/{Y}/{M}\")\n",
    "    return updateJson(f\"/data/notebooks/DB/DATA/{Y}/{M}/DATA{ID}.json\", \"DATA\", document)"
   ]
  },
  {
   "cell_type": "code",
   "execution_count": 16,
   "id": "92c216bb",
   "metadata": {
    "execution": {
     "iopub.execute_input": "2022-07-15T10:09:00.392917Z",
     "iopub.status.busy": "2022-07-15T10:09:00.392136Z",
     "iopub.status.idle": "2022-07-15T10:09:00.395263Z",
     "shell.execute_reply": "2022-07-15T10:09:00.395650Z"
    },
    "jupyter": {
     "source_hidden": true
    },
    "papermill": {
     "duration": 0.038117,
     "end_time": "2022-07-15T10:09:00.395787",
     "exception": false,
     "start_time": "2022-07-15T10:09:00.357670",
     "status": "completed"
    },
    "tags": []
   },
   "outputs": [],
   "source": [
    "def saveErrors(errList):\n",
    "    path =  f\"/data/notebooks/DB/ERRORLOGS/ERRLOGS{ID}.json\"\n",
    "    Y = datetime.today().year\n",
    "    M = datetime.today().month\n",
    "    try:\n",
    "        jsonFile = open(path, \"r\",encoding='utf-8')\n",
    "        _data = json.load(jsonFile)\n",
    "        jsonFile.close()\n",
    "    except:\n",
    "        print(\"error in saveErrors\")\n",
    "        \n",
    "    if f\"{Y}{M}\" not in _data: \n",
    "        _data[f\"{Y}{M}\"] = [errList]\n",
    "    else:\n",
    "        _data[f\"{Y}{M}\"].append(errList)\n",
    "    jsonFile = open(path, \"w+\", encoding ='utf-8')\n",
    "    jsonFile.write(json.dumps(_data, default=str))\n",
    "    jsonFile.close()"
   ]
  },
  {
   "cell_type": "code",
   "execution_count": 17,
   "id": "21ff91ee",
   "metadata": {
    "execution": {
     "iopub.execute_input": "2022-07-15T10:09:00.510913Z",
     "iopub.status.busy": "2022-07-15T10:09:00.510189Z",
     "iopub.status.idle": "2022-07-15T10:09:00.519003Z",
     "shell.execute_reply": "2022-07-15T10:09:00.519789Z"
    },
    "jupyter": {
     "source_hidden": true
    },
    "papermill": {
     "duration": 0.096049,
     "end_time": "2022-07-15T10:09:00.519965",
     "exception": false,
     "start_time": "2022-07-15T10:09:00.423916",
     "status": "completed"
    },
    "tags": []
   },
   "outputs": [],
   "source": [
    "def checkPoint(category, link=None):\n",
    "    path = f\"/data/notebooks/DB/CHECKPOINT/CP{ID}.json\"\n",
    "    try:\n",
    "        jsonFile = open(path, \"r\",encoding='utf-8')\n",
    "        _data = json.load(jsonFile)\n",
    "        jsonFile.close()\n",
    "    except:\n",
    "        print(\"ERR\")\n",
    "    if link == None: return [_data[category][\"cp1\"], _data[category][\"cp2\"]]\n",
    "    _data[category][\"cp2\"] = _data[category][\"cp1\"]\n",
    "    _data[category][\"cp1\"] = link\n",
    "    _data[category][\"time\"] = str(datetime.today())\n",
    "    jsonFile = open(path, \"w+\", encoding ='utf-8')\n",
    "    jsonFile.write(json.dumps(_data))\n",
    "    jsonFile.close()"
   ]
  },
  {
   "cell_type": "code",
   "execution_count": 18,
   "id": "65927d45",
   "metadata": {
    "execution": {
     "iopub.execute_input": "2022-07-15T10:09:00.673107Z",
     "iopub.status.busy": "2022-07-15T10:09:00.672368Z",
     "iopub.status.idle": "2022-07-15T10:09:00.676332Z",
     "shell.execute_reply": "2022-07-15T10:09:00.676816Z"
    },
    "jupyter": {
     "source_hidden": true
    },
    "papermill": {
     "duration": 0.09754,
     "end_time": "2022-07-15T10:09:00.676956",
     "exception": false,
     "start_time": "2022-07-15T10:09:00.579416",
     "status": "completed"
    },
    "tags": []
   },
   "outputs": [],
   "source": [
    "def initCP():\n",
    "    path = f\"/data/notebooks/DB/CHECKPOINT/CP{ID}.json\"\n",
    "    _data = {}\n",
    "    for c in categories:\n",
    "        _data[c] =\"\"\n",
    "    jsonFile = open(path, \"w+\", encoding ='utf-8')\n",
    "    jsonFile.write(json.dumps(_data))\n",
    "    jsonFile.close()"
   ]
  },
  {
   "cell_type": "code",
   "execution_count": 19,
   "id": "210318d4",
   "metadata": {
    "execution": {
     "iopub.execute_input": "2022-07-15T10:09:00.876295Z",
     "iopub.status.busy": "2022-07-15T10:09:00.873794Z",
     "iopub.status.idle": "2022-07-15T10:09:00.878231Z",
     "shell.execute_reply": "2022-07-15T10:09:00.878788Z"
    },
    "jupyter": {
     "source_hidden": true
    },
    "papermill": {
     "duration": 0.101073,
     "end_time": "2022-07-15T10:09:00.878955",
     "exception": false,
     "start_time": "2022-07-15T10:09:00.777882",
     "status": "completed"
    },
    "tags": []
   },
   "outputs": [],
   "source": [
    "def update():\n",
    "    error=[]\n",
    "    for category in categories:\n",
    "        _checkPoint = checkPoint(category)\n",
    "        links = getNewLinks(category, _checkPoint)\n",
    "        i = 0\n",
    "        for link in links[::-1]:\n",
    "            i+=1\n",
    "            status, document = getArticle(link, category)\n",
    "            if status==0:error.append(document); continue\n",
    "            saveArticle(document)\n",
    "            checkPoint(category,link)\n",
    "    saveErrors(error)"
   ]
  },
  {
   "cell_type": "code",
   "execution_count": null,
   "id": "27743643",
   "metadata": {
    "jupyter": {
     "source_hidden": true
    },
    "papermill": {
     "duration": null,
     "end_time": null,
     "exception": false,
     "start_time": "2022-07-15T10:09:00.987695",
     "status": "running"
    },
    "scrolled": true,
    "tags": []
   },
   "outputs": [],
   "source": [
    "update()"
   ]
  }
 ],
 "metadata": {
  "kernelspec": {
   "display_name": "Python 3",
   "language": "python",
   "name": "python3"
  },
  "language_info": {
   "codemirror_mode": {
    "name": "ipython",
    "version": 3
   },
   "file_extension": ".py",
   "mimetype": "text/x-python",
   "name": "python",
   "nbconvert_exporter": "python",
   "pygments_lexer": "ipython3",
   "version": "3.6.9"
  },
  "papermill": {
   "default_parameters": {},
   "duration": null,
   "end_time": null,
   "environment_variables": {},
   "exception": null,
   "input_path": "/data/notebooks/SN/Scraper001[journaldusenegal.com].ipynb",
   "output_path": "/data/notebooks/logs/Scraper001.ipynb",
   "parameters": {
    "msgs": "Ran from Airflow at 2022-07-09T04:00:00+00:00!"
   },
   "start_time": "2022-07-15T10:08:52.007814",
   "version": "2.3.4"
  }
 },
 "nbformat": 4,
 "nbformat_minor": 5
}