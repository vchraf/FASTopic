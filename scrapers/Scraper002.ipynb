{
 "cells": [
  {
   "cell_type": "code",
   "execution_count": 1,
   "id": "8872fe19",
   "metadata": {
    "execution": {
     "iopub.execute_input": "2022-07-15T10:08:55.991130Z",
     "iopub.status.busy": "2022-07-15T10:08:55.989841Z",
     "iopub.status.idle": "2022-07-15T10:08:55.991711Z",
     "shell.execute_reply": "2022-07-15T10:08:55.990524Z"
    },
    "jupyter": {
     "source_hidden": true
    },
    "papermill": {
     "duration": 0.114797,
     "end_time": "2022-07-15T10:08:55.991849",
     "exception": false,
     "start_time": "2022-07-15T10:08:55.877052",
     "status": "completed"
    },
    "tags": [
     "injected-parameters"
    ]
   },
   "outputs": [],
   "source": [
    "# Parameters\n",
    "msgs = \"Ran from Airflow at 2022-07-09T04:00:00+00:00!\"\n"
   ]
  },
  {
   "cell_type": "code",
   "execution_count": 2,
   "id": "666faa03",
   "metadata": {
    "execution": {
     "iopub.execute_input": "2022-07-15T10:08:56.154824Z",
     "iopub.status.busy": "2022-07-15T10:08:56.154175Z",
     "iopub.status.idle": "2022-07-15T10:08:59.926716Z",
     "shell.execute_reply": "2022-07-15T10:08:59.925153Z"
    },
    "jupyter": {
     "source_hidden": true
    },
    "papermill": {
     "duration": 3.876764,
     "end_time": "2022-07-15T10:08:59.926877",
     "exception": false,
     "start_time": "2022-07-15T10:08:56.050113",
     "status": "completed"
    },
    "tags": []
   },
   "outputs": [
    {
     "name": "stderr",
     "output_type": "stream",
     "text": [
      "/data/venv/lib/python3.6/site-packages/ipykernel_launcher.py:6: DeprecationWarning: use options instead of chrome_options\n",
      "  \n"
     ]
    }
   ],
   "source": [
    "from selenium import webdriver\n",
    "chrome_options = webdriver.ChromeOptions()\n",
    "chrome_options.add_argument('--headless')\n",
    "chrome_options.add_argument('--no-sandbox')\n",
    "chrome_options.add_argument('--disable-dev-shm-usage')\n",
    "driver = webdriver.Chrome('/usr/lib/chromium-browser/chromedriver',chrome_options=chrome_options)"
   ]
  },
  {
   "cell_type": "code",
   "execution_count": 3,
   "id": "b7b2ecfe",
   "metadata": {
    "execution": {
     "iopub.execute_input": "2022-07-15T10:08:59.980385Z",
     "iopub.status.busy": "2022-07-15T10:08:59.978906Z",
     "iopub.status.idle": "2022-07-15T10:09:04.090286Z",
     "shell.execute_reply": "2022-07-15T10:09:04.090909Z"
    },
    "jupyter": {
     "source_hidden": true
    },
    "papermill": {
     "duration": 4.147885,
     "end_time": "2022-07-15T10:09:04.091072",
     "exception": false,
     "start_time": "2022-07-15T10:08:59.943187",
     "status": "completed"
    },
    "tags": []
   },
   "outputs": [],
   "source": [
    "import time\n",
    "import os\n",
    "import requests\n",
    "import urllib.request\n",
    "import urllib.parse\n",
    "import json\n",
    "import re\n",
    "import collections\n",
    "import pandas as pd\n",
    "import bs4\n",
    "from bs4 import BeautifulSoup\n",
    "import dateparser\n",
    "from datetime import datetime\n",
    "import numpy as np\n",
    "\n",
    "from selenium.webdriver.common.keys import Keys\n",
    "from selenium.webdriver.common.by import By"
   ]
  },
  {
   "cell_type": "code",
   "execution_count": 4,
   "id": "ab243974",
   "metadata": {
    "execution": {
     "iopub.execute_input": "2022-07-15T10:09:04.187105Z",
     "iopub.status.busy": "2022-07-15T10:09:04.178075Z",
     "iopub.status.idle": "2022-07-15T10:09:04.187869Z",
     "shell.execute_reply": "2022-07-15T10:09:04.178721Z"
    },
    "jupyter": {
     "source_hidden": true
    },
    "papermill": {
     "duration": 0.068946,
     "end_time": "2022-07-15T10:09:04.188016",
     "exception": false,
     "start_time": "2022-07-15T10:09:04.119070",
     "status": "completed"
    },
    "tags": []
   },
   "outputs": [],
   "source": [
    "ID = '002'\n",
    "SITE =\"leral.net\""
   ]
  },
  {
   "cell_type": "code",
   "execution_count": 5,
   "id": "6194da5f",
   "metadata": {
    "execution": {
     "iopub.execute_input": "2022-07-15T10:09:04.249987Z",
     "iopub.status.busy": "2022-07-15T10:09:04.249352Z",
     "iopub.status.idle": "2022-07-15T10:09:04.259877Z",
     "shell.execute_reply": "2022-07-15T10:09:04.259093Z"
    },
    "jupyter": {
     "source_hidden": true
    },
    "papermill": {
     "duration": 0.052613,
     "end_time": "2022-07-15T10:09:04.260029",
     "exception": false,
     "start_time": "2022-07-15T10:09:04.207416",
     "status": "completed"
    },
    "tags": []
   },
   "outputs": [],
   "source": [
    "categories = [\"Politique_r2\",\"Actualites_r1\",\"Sport_r3\",\"Television-Leral_r7\",\"People_r41\"]"
   ]
  },
  {
   "cell_type": "code",
   "execution_count": 6,
   "id": "c567d220",
   "metadata": {
    "execution": {
     "iopub.execute_input": "2022-07-15T10:09:04.408190Z",
     "iopub.status.busy": "2022-07-15T10:09:04.406242Z",
     "iopub.status.idle": "2022-07-15T10:09:04.413707Z",
     "shell.execute_reply": "2022-07-15T10:09:04.411753Z"
    },
    "jupyter": {
     "source_hidden": true
    },
    "papermill": {
     "duration": 0.090981,
     "end_time": "2022-07-15T10:09:04.413852",
     "exception": false,
     "start_time": "2022-07-15T10:09:04.322871",
     "status": "completed"
    },
    "tags": []
   },
   "outputs": [],
   "source": [
    "def parseDate(date):\n",
    "    try:\n",
    "        return dateparser.parse(date, languages=['fr'])\n",
    "    except:\n",
    "        return dateparser.parse(date)"
   ]
  },
  {
   "cell_type": "code",
   "execution_count": 7,
   "id": "d3c853ea",
   "metadata": {
    "execution": {
     "iopub.execute_input": "2022-07-15T10:09:04.596468Z",
     "iopub.status.busy": "2022-07-15T10:09:04.595049Z",
     "iopub.status.idle": "2022-07-15T10:09:04.598046Z",
     "shell.execute_reply": "2022-07-15T10:09:04.598703Z"
    },
    "jupyter": {
     "source_hidden": true
    },
    "papermill": {
     "duration": 0.091796,
     "end_time": "2022-07-15T10:09:04.598858",
     "exception": false,
     "start_time": "2022-07-15T10:09:04.507062",
     "status": "completed"
    },
    "tags": []
   },
   "outputs": [],
   "source": [
    "def getWebPage(URL):\n",
    "    try:\n",
    "        page  = requests.get(URL)\n",
    "        return BeautifulSoup(page.text, \"html.parser\")\n",
    "    except: print(URL)"
   ]
  },
  {
   "cell_type": "code",
   "execution_count": 8,
   "id": "d021d35e",
   "metadata": {
    "execution": {
     "iopub.execute_input": "2022-07-15T10:09:04.806200Z",
     "iopub.status.busy": "2022-07-15T10:09:04.805030Z",
     "iopub.status.idle": "2022-07-15T10:09:04.806828Z",
     "shell.execute_reply": "2022-07-15T10:09:04.805597Z"
    },
    "jupyter": {
     "source_hidden": true
    },
    "papermill": {
     "duration": 0.108206,
     "end_time": "2022-07-15T10:09:04.806956",
     "exception": false,
     "start_time": "2022-07-15T10:09:04.698750",
     "status": "completed"
    },
    "tags": []
   },
   "outputs": [],
   "source": [
    "def getArticleTitle(HTML):       \n",
    "    h = HTML.find_all(\"div\", {\"class\": \"titre\"})\n",
    "    return str(h[0].text).replace(\"\\n\",\"\").replace(\"\\t\", \"\").replace(\"\\r\", \"\")"
   ]
  },
  {
   "cell_type": "code",
   "execution_count": 9,
   "id": "55f57e6e",
   "metadata": {
    "execution": {
     "iopub.execute_input": "2022-07-15T10:09:04.911770Z",
     "iopub.status.busy": "2022-07-15T10:09:04.910902Z",
     "iopub.status.idle": "2022-07-15T10:09:04.935213Z",
     "shell.execute_reply": "2022-07-15T10:09:04.934375Z"
    },
    "jupyter": {
     "source_hidden": true
    },
    "papermill": {
     "duration": 0.064723,
     "end_time": "2022-07-15T10:09:04.935361",
     "exception": false,
     "start_time": "2022-07-15T10:09:04.870638",
     "status": "completed"
    },
    "tags": []
   },
   "outputs": [],
   "source": [
    "def getArticleContent(HTML):\n",
    "    h = HTML.find_all(\"div\", {\"class\": \"access firstletter\"})\n",
    "    return str(h[0].text).replace(\"\\n\",\"\").replace(\"\\t\", \"\").replace(\"\\r\", \"\")"
   ]
  },
  {
   "cell_type": "code",
   "execution_count": 10,
   "id": "b1b4c32d",
   "metadata": {
    "execution": {
     "iopub.execute_input": "2022-07-15T10:09:05.089270Z",
     "iopub.status.busy": "2022-07-15T10:09:05.086342Z",
     "iopub.status.idle": "2022-07-15T10:09:05.094354Z",
     "shell.execute_reply": "2022-07-15T10:09:05.094868Z"
    },
    "jupyter": {
     "source_hidden": true
    },
    "papermill": {
     "duration": 0.092333,
     "end_time": "2022-07-15T10:09:05.095026",
     "exception": false,
     "start_time": "2022-07-15T10:09:05.002693",
     "status": "completed"
    },
    "tags": []
   },
   "outputs": [],
   "source": [
    "def getArticleAuthor(HTML):\n",
    "    try:\n",
    "        h = HTML.find_all(\"div\", {\"class\": \"real-auteur auteur\"})\n",
    "        return str(h[0].text).replace(\"\\n\",\"\").replace(\"\\t\", \"\").replace(\"\\r\", \"\")\n",
    "    except: return \"\""
   ]
  },
  {
   "cell_type": "code",
   "execution_count": 11,
   "id": "1b224c68",
   "metadata": {
    "execution": {
     "iopub.execute_input": "2022-07-15T10:09:05.353470Z",
     "iopub.status.busy": "2022-07-15T10:09:05.344328Z",
     "iopub.status.idle": "2022-07-15T10:09:05.354315Z",
     "shell.execute_reply": "2022-07-15T10:09:05.344989Z"
    },
    "jupyter": {
     "source_hidden": true
    },
    "papermill": {
     "duration": 0.160596,
     "end_time": "2022-07-15T10:09:05.354457",
     "exception": false,
     "start_time": "2022-07-15T10:09:05.193861",
     "status": "completed"
    },
    "tags": []
   },
   "outputs": [],
   "source": [
    "def getArticleDate(HTML):\n",
    "    try:\n",
    "        h = HTML.find_all(\"div\", {\"class\": \"auteur\"})\n",
    "        date = str(h[0].text).replace(\"\\n\",\"\").replace(\"\\t\", \"\").replace(\"\\r\", \"\")\n",
    "        return date[date.find('le ')+3:date.find('à')-1]\n",
    "    except: return \"\""
   ]
  },
  {
   "cell_type": "code",
   "execution_count": 12,
   "id": "1b4c8659",
   "metadata": {
    "execution": {
     "iopub.execute_input": "2022-07-15T10:09:05.553022Z",
     "iopub.status.busy": "2022-07-15T10:09:05.552248Z",
     "iopub.status.idle": "2022-07-15T10:09:05.554433Z",
     "shell.execute_reply": "2022-07-15T10:09:05.554949Z"
    },
    "jupyter": {
     "source_hidden": true
    },
    "papermill": {
     "duration": 0.093216,
     "end_time": "2022-07-15T10:09:05.555102",
     "exception": false,
     "start_time": "2022-07-15T10:09:05.461886",
     "status": "completed"
    },
    "tags": []
   },
   "outputs": [],
   "source": [
    "def getArticleCommentList(URL):\n",
    "    try:\n",
    "        driver = webdriver.Chrome('/usr/lib/chromium-browser/chromedriver',chrome_options=chrome_options)\n",
    "        driver.get(URL)\n",
    "        time.sleep(2)\n",
    "        try:\n",
    "            element = driver.find_element(by=By.ID, value=\"disqus_thread\").get_attribute('innerHTML')\n",
    "        finally:\n",
    "            driver.quit()\n",
    "        driver.quit()\n",
    "        p = BeautifulSoup(str(element), \"html.parser\")\n",
    "        HTML = getWebPage(p.find('iframe', src=True)['src'])\n",
    "        data = json.loads(str(HTML.find_all('script', {\"id\": \"disqus-threadData\"})[0].text))\n",
    "        return \"|\".join([i['raw_message'] for i in data['response']['posts']])\n",
    "    except:\n",
    "        return \"\""
   ]
  },
  {
   "cell_type": "code",
   "execution_count": 13,
   "id": "e8d8906a",
   "metadata": {
    "execution": {
     "iopub.execute_input": "2022-07-15T10:09:05.711039Z",
     "iopub.status.busy": "2022-07-15T10:09:05.710231Z",
     "iopub.status.idle": "2022-07-15T10:09:05.871088Z",
     "shell.execute_reply": "2022-07-15T10:09:05.871843Z"
    },
    "jupyter": {
     "source_hidden": true
    },
    "papermill": {
     "duration": 0.253125,
     "end_time": "2022-07-15T10:09:05.872009",
     "exception": false,
     "start_time": "2022-07-15T10:09:05.618884",
     "status": "completed"
    },
    "tags": []
   },
   "outputs": [],
   "source": [
    "def getLinks(category, index):\n",
    "    URL = \"https://www.leral.net\"\n",
    "    page = getWebPage(f\"https://www.leral.net/{category}.html?start={index}\")\n",
    "    _links = page.find_all(\"div\", {\"id\": \"z_col1\"})[0].find_all(\"div\", {\"class\": \"cel1\"})\n",
    "    if len(_links) == 0: return []\n",
    "    _links = [URL+i.find('a', href=True)['href'] for i in _links if isinstance(i.find('a', href=True),bs4.element.Tag)][:-1]\n",
    "    return _links\n",
    "\n",
    "\n",
    "\n",
    "def getNewLinks(category, checkPoint):\n",
    "    links = []\n",
    "    step = 9\n",
    "    if category == \"Television-Leral_r7\" : step = 30\n",
    "    elif category == \"People_r41\" : step = 19\n",
    "    index  = 0\n",
    "    while(True):\n",
    "        _links = getLinks(category, index)\n",
    "        if _links == []:return links\n",
    "        if checkPoint in _links:\n",
    "            lastIndex = _links.index(checkPoint)\n",
    "            if lastIndex == 0:\n",
    "                return []\n",
    "            else:\n",
    "                links.extend(_links)\n",
    "                return links[:links.index(checkPoint)]\n",
    "        else:\n",
    "            links.extend(_links)\n",
    "            index+=step\n",
    "    return links     \n",
    "\n",
    "def getArticle(link,category):\n",
    "        try:\n",
    "            p = getWebPage(link)\n",
    "            _title      = getArticleTitle(p)\n",
    "            _article    = getArticleContent(p)\n",
    "            _date       = getArticleDate(p)\n",
    "            _author     = getArticleAuthor(p)\n",
    "            _commments  = getArticleCommentList(link)\n",
    "            return [1,{'DATE_SCRAPING':str(datetime.today()),\n",
    "                  'DATE':parseDate(_date),\n",
    "                  'DATE_ARTICLE':_date,\n",
    "                  'CATEGORY':category,\n",
    "                  'URL':link,\n",
    "                  \"AUTEUR\":_author,\n",
    "                  \"TITRE\":_title,\n",
    "                  \"SITE\":SITE,\n",
    "                  \"CONTENU\":_article,\n",
    "                  \"COMMENTAIRES\":_commments,}]\n",
    "        except:\n",
    "            return [0,link]\n",
    "\n",
    "\n",
    "def updateJson(path, key, value):\n",
    "    if not os.path.exists(path):\n",
    "        _data = {key:[]}\n",
    "    else:\n",
    "        try:\n",
    "            jsonFile = open(path, \"r\",encoding='utf-8')\n",
    "            _data = json.load(jsonFile)\n",
    "            jsonFile.close()\n",
    "        except:\n",
    "            time.sleep(2)\n",
    "            jsonFile = open(path, \"r\",encoding='utf-8')\n",
    "            _data = json.load(jsonFile)\n",
    "            jsonFile.close()\n",
    "    _data[key].append(value)\n",
    "    jsonFile = open(path, \"w+\", encoding ='utf-8')\n",
    "    jsonFile.write(json.dumps(_data, default=str))\n",
    "    jsonFile.close()\n",
    "    \n",
    "        \n",
    "def saveArticle(document):\n",
    "    Y = document[\"DATE\"].year\n",
    "    M = document[\"DATE\"].month\n",
    "    try:\n",
    "        if not os.path.exists(f\"/data/notebooks/DB/DATA/{Y}\"):\n",
    "            os.mkdir(f\"/data/notebooks/DB/DATA/{Y}\") \n",
    "        if not os.path.exists(f\"/data/notebooks/DB/DATA/{Y}/{M}\"):\n",
    "            os.mkdir(f\"/data/notebooks/DB/DATA/{Y}/{M}\")\n",
    "        return updateJson(f\"/data/notebooks/DB/DATA/{Y}/{M}/DATA{ID}.json\", \"DATA\", document)\n",
    "    except:\n",
    "        raise Exception(f\"{Y}/{M}\")\n",
    "\n",
    "\n",
    "def saveErrors(errList):\n",
    "    Y = datetime.today().year\n",
    "    M = datetime.today().month\n",
    "    return updateJson(f\"/data/notebooks/DB/ERRORLOGS/ERRLOGS{ID}.json\", f\"{Y}{M}\", errList)\n",
    "\n",
    "\n",
    "\n",
    "def checkPoint(category, link=None):\n",
    "    path = f\"/data/notebooks/DB/CHECKPOINT/CP{ID}.json\"\n",
    "    _date = None\n",
    "    try:\n",
    "        jsonFile = open(path, \"r\",encoding='utf-8')\n",
    "        _data = json.load(jsonFile)\n",
    "        jsonFile.close()\n",
    "    except:\n",
    "        print(\"ERR\")\n",
    "    if link == None: return _data[category]\n",
    "    _data[category] = link\n",
    "    jsonFile = open(path, \"w+\", encoding ='utf-8')\n",
    "    jsonFile.write(json.dumps(_data))\n",
    "    jsonFile.close()\n",
    "    \n",
    "\n",
    "    \n",
    "def update():\n",
    "    error=[]\n",
    "    for category in categories:\n",
    "        _checkPoint = checkPoint(category)\n",
    "        print(category)\n",
    "        links = getNewLinks(category, _checkPoint)\n",
    "        i = 0\n",
    "        for link in links[::-1]:\n",
    "            i+=1\n",
    "            status, document = getArticle(link,category)\n",
    "            if status==0:error.append(document); continue\n",
    "            saveArticle(document)\n",
    "            checkPoint(category,link)\n",
    "    saveErrors(error)\n",
    "\n",
    "\n",
    "def initCP():\n",
    "    path = f\"/data/notebooks/DB/CHECKPOINT/CP{ID}.json\"\n",
    "    _data = {}\n",
    "    for c in categories:\n",
    "        _data[c] =\"\"\n",
    "    jsonFile = open(path, \"w+\", encoding ='utf-8')\n",
    "    jsonFile.write(json.dumps(_data))\n",
    "    jsonFile.close()"
   ]
  },
  {
   "cell_type": "code",
   "execution_count": null,
   "id": "5a785407",
   "metadata": {
    "jupyter": {
     "source_hidden": true
    },
    "papermill": {
     "duration": null,
     "end_time": null,
     "exception": false,
     "start_time": "2022-07-15T10:09:05.933571",
     "status": "running"
    },
    "tags": []
   },
   "outputs": [],
   "source": [
    "update()"
   ]
  },
  {
   "cell_type": "code",
   "execution_count": null,
   "id": "bdb770a0",
   "metadata": {
    "jupyter": {
     "source_hidden": true
    },
    "papermill": {
     "duration": null,
     "end_time": null,
     "exception": null,
     "start_time": null,
     "status": "pending"
    },
    "tags": []
   },
   "outputs": [],
   "source": [
    "path = \"/data/notebooks/DB/DATA/2012/3/DATA002.json\"\n",
    "jsonFile = open(path, \"r\",encoding='utf-8')\n",
    "_data = json.load(jsonFile)\n",
    "jsonFile.close()"
   ]
  }
 ],
 "metadata": {
  "kernelspec": {
   "display_name": "Python 3",
   "language": "python",
   "name": "python3"
  },
  "language_info": {
   "codemirror_mode": {
    "name": "ipython",
    "version": 3
   },
   "file_extension": ".py",
   "mimetype": "text/x-python",
   "name": "python",
   "nbconvert_exporter": "python",
   "pygments_lexer": "ipython3",
   "version": "3.6.9"
  },
  "papermill": {
   "default_parameters": {},
   "duration": null,
   "end_time": null,
   "environment_variables": {},
   "exception": null,
   "input_path": "/data/notebooks/SN/Scraper002[leral.net].ipynb",
   "output_path": "/data/notebooks/logs/Scraper002.ipynb",
   "parameters": {
    "msgs": "Ran from Airflow at 2022-07-09T04:00:00+00:00!"
   },
   "start_time": "2022-07-15T10:08:52.265419",
   "version": "2.3.4"
  }
 },
 "nbformat": 4,
 "nbformat_minor": 5
}