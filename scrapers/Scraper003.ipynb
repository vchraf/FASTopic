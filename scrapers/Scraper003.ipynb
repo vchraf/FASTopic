{
 "cells": [
  {
   "cell_type": "code",
   "execution_count": 1,
   "id": "b5cf2057",
   "metadata": {
    "execution": {
     "iopub.execute_input": "2022-07-15T10:08:32.488962Z",
     "iopub.status.busy": "2022-07-15T10:08:32.487018Z",
     "iopub.status.idle": "2022-07-15T10:08:32.524999Z",
     "shell.execute_reply": "2022-07-15T10:08:32.525669Z"
    },
    "jupyter": {
     "source_hidden": true
    },
    "papermill": {
     "duration": 0.174951,
     "end_time": "2022-07-15T10:08:32.525867",
     "exception": false,
     "start_time": "2022-07-15T10:08:32.350916",
     "status": "completed"
    },
    "tags": [
     "injected-parameters"
    ]
   },
   "outputs": [],
   "source": [
    "# Parameters\n",
    "msgs = \"Ran from Airflow at 2022-07-09T03:00:00+00:00!\"\n"
   ]
  },
  {
   "cell_type": "code",
   "execution_count": 2,
   "id": "b7b2ecfe",
   "metadata": {
    "execution": {
     "iopub.execute_input": "2022-07-15T10:08:32.731924Z",
     "iopub.status.busy": "2022-07-15T10:08:32.731086Z",
     "iopub.status.idle": "2022-07-15T10:08:37.980985Z",
     "shell.execute_reply": "2022-07-15T10:08:37.982005Z"
    },
    "jupyter": {
     "source_hidden": true
    },
    "papermill": {
     "duration": 5.393309,
     "end_time": "2022-07-15T10:08:37.982154",
     "exception": false,
     "start_time": "2022-07-15T10:08:32.588845",
     "status": "completed"
    },
    "tags": []
   },
   "outputs": [],
   "source": [
    "import time\n",
    "import os\n",
    "import requests\n",
    "import urllib.request\n",
    "import urllib.parse\n",
    "import json\n",
    "import re\n",
    "import collections\n",
    "import pandas as pd\n",
    "import bs4\n",
    "from bs4 import BeautifulSoup\n",
    "import dateparser\n",
    "from datetime import datetime\n",
    "import numpy as np"
   ]
  },
  {
   "cell_type": "code",
   "execution_count": 3,
   "id": "4d79b302",
   "metadata": {
    "execution": {
     "iopub.execute_input": "2022-07-15T10:08:38.154397Z",
     "iopub.status.busy": "2022-07-15T10:08:38.153019Z",
     "iopub.status.idle": "2022-07-15T10:08:38.155098Z",
     "shell.execute_reply": "2022-07-15T10:08:38.153724Z"
    },
    "jupyter": {
     "source_hidden": true
    },
    "papermill": {
     "duration": 0.163625,
     "end_time": "2022-07-15T10:08:38.155234",
     "exception": false,
     "start_time": "2022-07-15T10:08:37.991609",
     "status": "completed"
    },
    "tags": []
   },
   "outputs": [],
   "source": [
    "ID = \"003\"\n",
    "SITE = \"metrodakar.net\""
   ]
  },
  {
   "cell_type": "code",
   "execution_count": 4,
   "id": "6194da5f",
   "metadata": {
    "execution": {
     "iopub.execute_input": "2022-07-15T10:08:38.382508Z",
     "iopub.status.busy": "2022-07-15T10:08:38.367680Z",
     "iopub.status.idle": "2022-07-15T10:08:38.383195Z",
     "shell.execute_reply": "2022-07-15T10:08:38.381747Z"
    },
    "jupyter": {
     "source_hidden": true
    },
    "papermill": {
     "duration": 0.134412,
     "end_time": "2022-07-15T10:08:38.383320",
     "exception": false,
     "start_time": "2022-07-15T10:08:38.248908",
     "status": "completed"
    },
    "tags": []
   },
   "outputs": [],
   "source": [
    "categories = [\"justice\",\"economie\",\"politique\",\"education\",\"faitsdivers\",\"religion\",\"necrologie\",\"sports\",\"societe\",\"actualite\"]"
   ]
  },
  {
   "cell_type": "code",
   "execution_count": 5,
   "id": "fb7bbd64",
   "metadata": {
    "execution": {
     "iopub.execute_input": "2022-07-15T10:08:38.552864Z",
     "iopub.status.busy": "2022-07-15T10:08:38.552113Z",
     "iopub.status.idle": "2022-07-15T10:08:38.553584Z",
     "shell.execute_reply": "2022-07-15T10:08:38.551420Z"
    },
    "jupyter": {
     "source_hidden": true
    },
    "papermill": {
     "duration": 0.121108,
     "end_time": "2022-07-15T10:08:38.553720",
     "exception": false,
     "start_time": "2022-07-15T10:08:38.432612",
     "status": "completed"
    },
    "tags": []
   },
   "outputs": [],
   "source": [
    "def parseDate(date):\n",
    "    try:\n",
    "        return datetime.strptime(str(date), '%Y-%m-%dT%H:%M:%S+00:00')\n",
    "    except:\n",
    "        return dateparser.parse(date)"
   ]
  },
  {
   "cell_type": "code",
   "execution_count": 6,
   "id": "d3c853ea",
   "metadata": {
    "execution": {
     "iopub.execute_input": "2022-07-15T10:08:38.669915Z",
     "iopub.status.busy": "2022-07-15T10:08:38.669047Z",
     "iopub.status.idle": "2022-07-15T10:08:38.671170Z",
     "shell.execute_reply": "2022-07-15T10:08:38.670565Z"
    },
    "jupyter": {
     "source_hidden": true
    },
    "papermill": {
     "duration": 0.031799,
     "end_time": "2022-07-15T10:08:38.671296",
     "exception": false,
     "start_time": "2022-07-15T10:08:38.639497",
     "status": "completed"
    },
    "tags": []
   },
   "outputs": [],
   "source": [
    "def getWebPage(URL):\n",
    "  page  = requests.get(URL)\n",
    "  return BeautifulSoup(page.text, \"html.parser\")"
   ]
  },
  {
   "cell_type": "code",
   "execution_count": 7,
   "id": "d021d35e",
   "metadata": {
    "execution": {
     "iopub.execute_input": "2022-07-15T10:08:38.877789Z",
     "iopub.status.busy": "2022-07-15T10:08:38.876459Z",
     "iopub.status.idle": "2022-07-15T10:08:38.878409Z",
     "shell.execute_reply": "2022-07-15T10:08:38.877158Z"
    },
    "jupyter": {
     "source_hidden": true
    },
    "papermill": {
     "duration": 0.121984,
     "end_time": "2022-07-15T10:08:38.878528",
     "exception": false,
     "start_time": "2022-07-15T10:08:38.756544",
     "status": "completed"
    },
    "tags": []
   },
   "outputs": [],
   "source": [
    "def getArticleTitle(HTML):       \n",
    "  h = HTML.find_all(\"h1\", {\"class\": \"is-title post-title\"})\n",
    "  return str(h[0].text).replace(\"\\n\",\"\").replace(\"\\t\", \"\").replace(\"\\r\", \"\")"
   ]
  },
  {
   "cell_type": "code",
   "execution_count": 8,
   "id": "55f57e6e",
   "metadata": {
    "execution": {
     "iopub.execute_input": "2022-07-15T10:08:38.953984Z",
     "iopub.status.busy": "2022-07-15T10:08:38.952849Z",
     "iopub.status.idle": "2022-07-15T10:08:38.954483Z",
     "shell.execute_reply": "2022-07-15T10:08:38.953513Z"
    },
    "jupyter": {
     "source_hidden": true
    },
    "papermill": {
     "duration": 0.036607,
     "end_time": "2022-07-15T10:08:38.954586",
     "exception": false,
     "start_time": "2022-07-15T10:08:38.917979",
     "status": "completed"
    },
    "tags": []
   },
   "outputs": [],
   "source": [
    "def getArticleContent(HTML):\n",
    "  h = HTML.find_all(\"div\", {\"class\": \"post-content-wrap has-share-float\"})[0].find_all(\"p\")\n",
    "  return \" \".join([i.text for i in h])"
   ]
  },
  {
   "cell_type": "code",
   "execution_count": 9,
   "id": "f583c872",
   "metadata": {
    "execution": {
     "iopub.execute_input": "2022-07-15T10:08:39.105787Z",
     "iopub.status.busy": "2022-07-15T10:08:39.105023Z",
     "iopub.status.idle": "2022-07-15T10:08:39.122113Z",
     "shell.execute_reply": "2022-07-15T10:08:39.122627Z"
    },
    "jupyter": {
     "source_hidden": true
    },
    "papermill": {
     "duration": 0.099741,
     "end_time": "2022-07-15T10:08:39.122772",
     "exception": false,
     "start_time": "2022-07-15T10:08:39.023031",
     "status": "completed"
    },
    "tags": []
   },
   "outputs": [],
   "source": [
    "def getArticleAuthor(HTML):\n",
    "    try:\n",
    "        h = HTML.find_all(\"h3\", {\"class\": \"jeg_author_name\"})\n",
    "        return str(h[0].text).replace(\"\\n\",\"\").replace(\"\\t\", \"\").replace(\"\\r\", \"\")\n",
    "    except:\n",
    "        return \"\""
   ]
  },
  {
   "cell_type": "code",
   "execution_count": 10,
   "id": "e40a4cd2",
   "metadata": {
    "execution": {
     "iopub.execute_input": "2022-07-15T10:08:39.348405Z",
     "iopub.status.busy": "2022-07-15T10:08:39.322299Z",
     "iopub.status.idle": "2022-07-15T10:08:39.351456Z",
     "shell.execute_reply": "2022-07-15T10:08:39.322995Z"
    },
    "jupyter": {
     "source_hidden": true
    },
    "papermill": {
     "duration": 0.093266,
     "end_time": "2022-07-15T10:08:39.351597",
     "exception": false,
     "start_time": "2022-07-15T10:08:39.258331",
     "status": "completed"
    },
    "tags": []
   },
   "outputs": [],
   "source": [
    "def getArticleDate(HTML):\n",
    "  h = BeautifulSoup(str(HTML.find_all(\"div\", {\"class\": \"post-meta post-meta-a post-meta-left post-meta-single has-below\"})), 'html.parser')\n",
    "  return h.find('time')['datetime']"
   ]
  },
  {
   "cell_type": "code",
   "execution_count": 11,
   "id": "c0c7281a",
   "metadata": {
    "execution": {
     "iopub.execute_input": "2022-07-15T10:08:39.456563Z",
     "iopub.status.busy": "2022-07-15T10:08:39.448243Z",
     "iopub.status.idle": "2022-07-15T10:08:39.507929Z",
     "shell.execute_reply": "2022-07-15T10:08:39.508659Z"
    },
    "jupyter": {
     "source_hidden": true
    },
    "papermill": {
     "duration": 0.131687,
     "end_time": "2022-07-15T10:08:39.508828",
     "exception": false,
     "start_time": "2022-07-15T10:08:39.377141",
     "status": "completed"
    },
    "tags": []
   },
   "outputs": [],
   "source": [
    "def getLinks(category, index):\n",
    "    page = getWebPage(f\"https://www.metrodakar.net/category/{category}/page/{index}/\")\n",
    "    _links = page.find_all(\"article\", {\"class\": \"l-post grid-base-post grid-post\"})\n",
    "    if len(_links) == 0: return []\n",
    "    return [i.find('a', href=True)['href'] for i in _links]    \n",
    "\n",
    "\n",
    "\n",
    "def getNewLinks(category, checkPoint):\n",
    "    index = 1\n",
    "    links = []\n",
    "    while(True):\n",
    "        _links = getLinks(category, index)\n",
    "        if _links == []:return links\n",
    "        if checkPoint[0] in _links or checkPoint[1] in _links:\n",
    "            try:\n",
    "                lastIndex = _links.index(checkPoint[0])\n",
    "            except: lastIndex = _links.index(checkPoint[0])\n",
    "            if lastIndex == 0:\n",
    "                return []\n",
    "            else:\n",
    "                links.extend(_links)\n",
    "                return links[:lastIndex]\n",
    "        else:\n",
    "            links.extend(_links)\n",
    "            index+=1\n",
    "    return links       \n",
    "\n",
    "\n",
    "\n",
    "def getArticle(link,category):\n",
    "        try:\n",
    "            p = getWebPage(link)\n",
    "            _title      = getArticleTitle(p)\n",
    "            _article    = getArticleContent(p)\n",
    "            _date       = getArticleDate(p)\n",
    "            _author     = getArticleAuthor(p)\n",
    "            _commments  = \"\"\n",
    "            return [1,{'DATE_SCRAPING':str(datetime.today()),\n",
    "                  'DATE':parseDate(_date),\n",
    "                  'DATE_ARTICLE':_date,\n",
    "                  'CATEGORY':category,\n",
    "                  'URL':link,\n",
    "                  \"AUTEUR\":_author,\n",
    "                  \"TITRE\":_title,\n",
    "                  \"SITE\":SITE,\n",
    "                  \"CONTENU\":_article,\n",
    "                  \"COMMENTAIRES\":_commments,}]\n",
    "        except:\n",
    "            return [0,link]\n",
    "\n",
    "\n",
    "\n",
    "def updateJson(path, key, value):\n",
    "    if not os.path.exists(path):\n",
    "        _data = {key:[]}\n",
    "    else:\n",
    "        try:\n",
    "            jsonFile = open(path, \"r\",encoding='utf-8')\n",
    "            _data = json.load(jsonFile)\n",
    "            jsonFile.close()\n",
    "        except:\n",
    "            print(\"error UpdateJson\")\n",
    "    _data[key].append(value)\n",
    "    jsonFile = open(path, \"w+\", encoding ='utf-8')\n",
    "    jsonFile.write(json.dumps(_data, default=str))\n",
    "    jsonFile.close()\n",
    "    \n",
    "        \n",
    "def saveArticle(document):\n",
    "    Y = document[\"DATE\"].year\n",
    "    M = document[\"DATE\"].month\n",
    "    if not os.path.exists(f\"/data/notebooks/DB/DATA/{Y}\"):\n",
    "        os.mkdir(f\"/data/notebooks/DB/DATA/{Y}\") \n",
    "    if not os.path.exists(f\"/data/notebooks/DB/DATA/{Y}/{M}\"):\n",
    "        os.mkdir(f\"/data/notebooks/DB/DATA/{Y}/{M}\")\n",
    "    return updateJson(f\"/data/notebooks/DB/DATA/{Y}/{M}/DATA{ID}.json\", \"DATA\", document)\n",
    "\n",
    "\n",
    "def saveErrors(errList):\n",
    "    path =  f\"/data/notebooks/DB/ERRORLOGS/ERRLOGS{ID}.json\"\n",
    "    Y = datetime.today().year\n",
    "    M = datetime.today().month\n",
    "    try:\n",
    "        jsonFile = open(path, \"r\",encoding='utf-8')\n",
    "        _data = json.load(jsonFile)\n",
    "        jsonFile.close()\n",
    "    except:\n",
    "        print(\"error in saveErrors\")\n",
    "        \n",
    "    if f\"{Y}{M}\" not in _data: \n",
    "        _data[f\"{Y}{M}\"] = [errList]\n",
    "    else:\n",
    "        _data[f\"{Y}{M}\"].append(errList)\n",
    "    jsonFile = open(path, \"w+\", encoding ='utf-8')\n",
    "    jsonFile.write(json.dumps(_data, default=str))\n",
    "    jsonFile.close()\n",
    "    print(\"hi\")\n",
    "\n",
    "\n",
    "def checkPoint(category, link=None):\n",
    "    path = f\"/data/notebooks/DB/CHECKPOINT/CP{ID}.json\"\n",
    "    try:\n",
    "        jsonFile = open(path, \"r\",encoding='utf-8')\n",
    "        _data = json.load(jsonFile)\n",
    "        jsonFile.close()\n",
    "    except:\n",
    "        print(\"ERR\")\n",
    "    if link == None: return [_data[category][\"cp1\"], _data[category][\"cp2\"]]\n",
    "    _data[category][\"cp2\"] = _data[category][\"cp1\"]\n",
    "    _data[category][\"cp1\"] = link\n",
    "    _data[category][\"time\"] = str(datetime.today())\n",
    "    jsonFile = open(path, \"w+\", encoding ='utf-8')\n",
    "    jsonFile.write(json.dumps(_data))\n",
    "    jsonFile.close()\n",
    "\n",
    "    \n",
    "def update():\n",
    "    error=[]\n",
    "    for category in categories:\n",
    "        _checkPoint = checkPoint(category)\n",
    "        links = getNewLinks(category, _checkPoint)\n",
    "        i = 0\n",
    "        for link in links[::-1]:\n",
    "            i+=1\n",
    "            status, document = getArticle(link,category)\n",
    "            if status==0:error.append(document); continue\n",
    "            saveArticle(document)\n",
    "            checkPoint(category,link)\n",
    "    saveErrors(error)\n",
    "\n",
    "\n",
    "def initCP():\n",
    "    path = f\"/data/notebooks/DB/CHECKPOINT/CP{ID}.json\"\n",
    "    _data = {}\n",
    "    for c in categories:\n",
    "        _data[c] =\"\"\n",
    "    jsonFile = open(path, \"w+\", encoding ='utf-8')\n",
    "    jsonFile.write(json.dumps(_data))\n",
    "    jsonFile.close()"
   ]
  },
  {
   "cell_type": "code",
   "execution_count": 12,
   "id": "fea96898",
   "metadata": {
    "execution": {
     "iopub.execute_input": "2022-07-15T10:08:39.571366Z",
     "iopub.status.busy": "2022-07-15T10:08:39.570574Z",
     "iopub.status.idle": "2022-07-15T10:09:00.339467Z",
     "shell.execute_reply": "2022-07-15T10:09:00.339957Z"
    },
    "jupyter": {
     "source_hidden": true
    },
    "papermill": {
     "duration": 20.806436,
     "end_time": "2022-07-15T10:09:00.340125",
     "exception": false,
     "start_time": "2022-07-15T10:08:39.533689",
     "status": "completed"
    },
    "tags": []
   },
   "outputs": [
    {
     "name": "stdout",
     "output_type": "stream",
     "text": [
      "hi\n"
     ]
    }
   ],
   "source": [
    "update()"
   ]
  }
 ],
 "metadata": {
  "kernelspec": {
   "display_name": "Python 3",
   "language": "python",
   "name": "python3"
  },
  "language_info": {
   "codemirror_mode": {
    "name": "ipython",
    "version": 3
   },
   "file_extension": ".py",
   "mimetype": "text/x-python",
   "name": "python",
   "nbconvert_exporter": "python",
   "pygments_lexer": "ipython3",
   "version": "3.6.9"
  },
  "papermill": {
   "default_parameters": {},
   "duration": 32.778634,
   "end_time": "2022-07-15T10:09:01.490956",
   "environment_variables": {},
   "exception": null,
   "input_path": "/data/notebooks/SN/Scraper003[metrodakar.net].ipynb",
   "output_path": "/data/notebooks/logs/Scraper003.ipynb",
   "parameters": {
    "msgs": "Ran from Airflow at 2022-07-09T03:00:00+00:00!"
   },
   "start_time": "2022-07-15T10:08:28.712322",
   "version": "2.3.4"
  }
 },
 "nbformat": 4,
 "nbformat_minor": 5
}