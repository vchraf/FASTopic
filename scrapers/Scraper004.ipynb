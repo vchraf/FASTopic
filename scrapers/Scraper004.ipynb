{
 "cells": [
  {
   "cell_type": "code",
   "execution_count": 1,
   "id": "9ca89ab3",
   "metadata": {
    "execution": {
     "iopub.execute_input": "2022-07-15T10:08:52.622066Z",
     "iopub.status.busy": "2022-07-15T10:08:52.612493Z",
     "iopub.status.idle": "2022-07-15T10:08:52.623206Z",
     "shell.execute_reply": "2022-07-15T10:08:52.622693Z"
    },
    "jupyter": {
     "source_hidden": true
    },
    "papermill": {
     "duration": 0.091784,
     "end_time": "2022-07-15T10:08:52.623351",
     "exception": false,
     "start_time": "2022-07-15T10:08:52.531567",
     "status": "completed"
    },
    "tags": [
     "injected-parameters"
    ]
   },
   "outputs": [],
   "source": [
    "# Parameters\n",
    "msgs = \"Ran from Airflow at 2022-07-09T04:00:00+00:00!\"\n"
   ]
  },
  {
   "cell_type": "code",
   "execution_count": 2,
   "id": "27985af3",
   "metadata": {
    "execution": {
     "iopub.execute_input": "2022-07-15T10:08:52.796663Z",
     "iopub.status.busy": "2022-07-15T10:08:52.795443Z",
     "iopub.status.idle": "2022-07-15T10:08:56.847130Z",
     "shell.execute_reply": "2022-07-15T10:08:56.844405Z"
    },
    "jupyter": {
     "source_hidden": true
    },
    "papermill": {
     "duration": 4.158649,
     "end_time": "2022-07-15T10:08:56.847273",
     "exception": false,
     "start_time": "2022-07-15T10:08:52.688624",
     "status": "completed"
    },
    "tags": []
   },
   "outputs": [
    {
     "name": "stderr",
     "output_type": "stream",
     "text": [
      "/data/venv/lib/python3.6/site-packages/ipykernel_launcher.py:6: DeprecationWarning: use options instead of chrome_options\n",
      "  \n"
     ]
    }
   ],
   "source": [
    "from selenium import webdriver\n",
    "chrome_options = webdriver.ChromeOptions()\n",
    "chrome_options.add_argument('--headless')\n",
    "chrome_options.add_argument('--no-sandbox')\n",
    "chrome_options.add_argument('--disable-dev-shm-usage')\n",
    "driver = webdriver.Chrome('/usr/lib/chromium-browser/chromedriver',chrome_options=chrome_options)"
   ]
  },
  {
   "cell_type": "code",
   "execution_count": 3,
   "id": "96b9631a",
   "metadata": {
    "execution": {
     "iopub.execute_input": "2022-07-15T10:08:56.971708Z",
     "iopub.status.busy": "2022-07-15T10:08:56.970561Z",
     "iopub.status.idle": "2022-07-15T10:08:59.859349Z",
     "shell.execute_reply": "2022-07-15T10:08:59.860000Z"
    },
    "jupyter": {
     "source_hidden": true
    },
    "papermill": {
     "duration": 2.992703,
     "end_time": "2022-07-15T10:08:59.860174",
     "exception": false,
     "start_time": "2022-07-15T10:08:56.867471",
     "status": "completed"
    },
    "tags": []
   },
   "outputs": [],
   "source": [
    "import time\n",
    "import os\n",
    "import requests\n",
    "import urllib.request\n",
    "import urllib.parse\n",
    "import json\n",
    "import re\n",
    "import collections\n",
    "import pandas as pd\n",
    "import bs4\n",
    "from bs4 import BeautifulSoup\n",
    "import dateparser\n",
    "from datetime import datetime\n",
    "import numpy as np\n",
    "import logging\n",
    "\n",
    "from selenium.webdriver.common.keys import Keys\n",
    "from selenium.webdriver.common.by import By"
   ]
  },
  {
   "cell_type": "code",
   "execution_count": 4,
   "id": "06949484",
   "metadata": {
    "execution": {
     "iopub.execute_input": "2022-07-15T10:08:59.965043Z",
     "iopub.status.busy": "2022-07-15T10:08:59.962984Z",
     "iopub.status.idle": "2022-07-15T10:08:59.965736Z",
     "shell.execute_reply": "2022-07-15T10:08:59.964358Z"
    },
    "jupyter": {
     "source_hidden": true
    },
    "papermill": {
     "duration": 0.068723,
     "end_time": "2022-07-15T10:08:59.965865",
     "exception": false,
     "start_time": "2022-07-15T10:08:59.897142",
     "status": "completed"
    },
    "tags": []
   },
   "outputs": [],
   "source": [
    "ID = '004'\n",
    "SITE =\"xalimasn.com\""
   ]
  },
  {
   "cell_type": "code",
   "execution_count": 5,
   "id": "008626af",
   "metadata": {
    "execution": {
     "iopub.execute_input": "2022-07-15T10:09:00.016992Z",
     "iopub.status.busy": "2022-07-15T10:09:00.016247Z",
     "iopub.status.idle": "2022-07-15T10:09:00.018812Z",
     "shell.execute_reply": "2022-07-15T10:09:00.019431Z"
    },
    "jupyter": {
     "source_hidden": true
    },
    "papermill": {
     "duration": 0.032233,
     "end_time": "2022-07-15T10:09:00.019573",
     "exception": false,
     "start_time": "2022-07-15T10:08:59.987340",
     "status": "completed"
    },
    "tags": []
   },
   "outputs": [],
   "source": [
    "categories = [\"presidentielle-2012\",\"chroniques\",\"blog\",\"celebrites\",\"sports\"]"
   ]
  },
  {
   "cell_type": "code",
   "execution_count": 6,
   "id": "54d11577",
   "metadata": {
    "execution": {
     "iopub.execute_input": "2022-07-15T10:09:00.117964Z",
     "iopub.status.busy": "2022-07-15T10:09:00.117164Z",
     "iopub.status.idle": "2022-07-15T10:09:00.119078Z",
     "shell.execute_reply": "2022-07-15T10:09:00.118522Z"
    },
    "jupyter": {
     "source_hidden": true
    },
    "papermill": {
     "duration": 0.051924,
     "end_time": "2022-07-15T10:09:00.119206",
     "exception": false,
     "start_time": "2022-07-15T10:09:00.067282",
     "status": "completed"
    },
    "tags": []
   },
   "outputs": [],
   "source": [
    "def parseDate(date):\n",
    "    try:\n",
    "        date = str(date)\n",
    "        if date.split(\" \")[-1] == \"ago\":\n",
    "            date = date.replace('ans', \"years\").replace(\"an\",\"years\").replace(\"heures\", \"hours\").replace(\"heure\", \"hour\").replace(\"semaines\", \"weeks\").replace(\"semaine\", \"weeks\").replace(\"mois\", \"months\").replace(\"secondes\",\"seconds\").replace(\"seconde\",\"seconds\").replace(\"jours\",\"days\").replace(\"jour\",\"days\")\n",
    "            return dateparser.parse(str(date))\n",
    "        else:\n",
    "            return dateparser.parse(date, languages=['fr'])\n",
    "    except:\n",
    "        return dateparser.parse(date)"
   ]
  },
  {
   "cell_type": "code",
   "execution_count": 7,
   "id": "a357d3e7",
   "metadata": {
    "execution": {
     "iopub.execute_input": "2022-07-15T10:09:00.235505Z",
     "iopub.status.busy": "2022-07-15T10:09:00.234749Z",
     "iopub.status.idle": "2022-07-15T10:09:00.246036Z",
     "shell.execute_reply": "2022-07-15T10:09:00.246614Z"
    },
    "jupyter": {
     "source_hidden": true
    },
    "papermill": {
     "duration": 0.071846,
     "end_time": "2022-07-15T10:09:00.246772",
     "exception": false,
     "start_time": "2022-07-15T10:09:00.174926",
     "status": "completed"
    },
    "tags": []
   },
   "outputs": [],
   "source": [
    "def getWebPage(URL):\n",
    "  page  = requests.get(URL)\n",
    "  return BeautifulSoup(page.text, \"html.parser\")"
   ]
  },
  {
   "cell_type": "code",
   "execution_count": 8,
   "id": "12edc2e4",
   "metadata": {
    "execution": {
     "iopub.execute_input": "2022-07-15T10:09:00.328010Z",
     "iopub.status.busy": "2022-07-15T10:09:00.327222Z",
     "iopub.status.idle": "2022-07-15T10:09:00.338053Z",
     "shell.execute_reply": "2022-07-15T10:09:00.333220Z"
    },
    "jupyter": {
     "source_hidden": true
    },
    "papermill": {
     "duration": 0.058722,
     "end_time": "2022-07-15T10:09:00.338195",
     "exception": false,
     "start_time": "2022-07-15T10:09:00.279473",
     "status": "completed"
    },
    "tags": []
   },
   "outputs": [],
   "source": [
    "def getArticleTitle(HTML):       \n",
    "  h = HTML.find_all(\"h1\", {\"class\": \"jeg_post_title\"})\n",
    "  return str(h[0].text).replace(\"\\n\",\"\").replace(\"\\t\", \"\").replace(\"\\r\", \"\")"
   ]
  },
  {
   "cell_type": "code",
   "execution_count": 9,
   "id": "1dc0ce75",
   "metadata": {
    "execution": {
     "iopub.execute_input": "2022-07-15T10:09:00.440154Z",
     "iopub.status.busy": "2022-07-15T10:09:00.435062Z",
     "iopub.status.idle": "2022-07-15T10:09:00.440933Z",
     "shell.execute_reply": "2022-07-15T10:09:00.441511Z"
    },
    "jupyter": {
     "source_hidden": true
    },
    "papermill": {
     "duration": 0.0576,
     "end_time": "2022-07-15T10:09:00.441663",
     "exception": false,
     "start_time": "2022-07-15T10:09:00.384063",
     "status": "completed"
    },
    "tags": []
   },
   "outputs": [],
   "source": [
    "def getArticleContent(HTML):\n",
    "  h = HTML.find_all(\"div\", {\"class\": \"content-inner\"})[0].find_all(\"p\")\n",
    "  return \" \".join([i.text for i in h])"
   ]
  },
  {
   "cell_type": "code",
   "execution_count": 10,
   "id": "8a9ebde6",
   "metadata": {
    "execution": {
     "iopub.execute_input": "2022-07-15T10:09:00.632646Z",
     "iopub.status.busy": "2022-07-15T10:09:00.631543Z",
     "iopub.status.idle": "2022-07-15T10:09:00.660410Z",
     "shell.execute_reply": "2022-07-15T10:09:00.659483Z"
    },
    "jupyter": {
     "source_hidden": true
    },
    "papermill": {
     "duration": 0.143838,
     "end_time": "2022-07-15T10:09:00.660591",
     "exception": false,
     "start_time": "2022-07-15T10:09:00.516753",
     "status": "completed"
    },
    "tags": []
   },
   "outputs": [],
   "source": [
    "def getArticleAuthor(HTML):\n",
    "    try:\n",
    "        h = HTML.find_all(\"h3\", {\"class\": \"jeg_author_name\"})\n",
    "        return str(h[0].text).replace(\"\\n\",\"\").replace(\"\\t\", \"\").replace(\"\\r\", \"\")\n",
    "    except:\n",
    "        return \"\""
   ]
  },
  {
   "cell_type": "code",
   "execution_count": 11,
   "id": "bd94f84f",
   "metadata": {
    "execution": {
     "iopub.execute_input": "2022-07-15T10:09:00.841508Z",
     "iopub.status.busy": "2022-07-15T10:09:00.840674Z",
     "iopub.status.idle": "2022-07-15T10:09:00.842667Z",
     "shell.execute_reply": "2022-07-15T10:09:00.842127Z"
    },
    "jupyter": {
     "source_hidden": true
    },
    "papermill": {
     "duration": 0.092259,
     "end_time": "2022-07-15T10:09:00.842789",
     "exception": false,
     "start_time": "2022-07-15T10:09:00.750530",
     "status": "completed"
    },
    "tags": []
   },
   "outputs": [],
   "source": [
    "def getArticleDate(HTML):\n",
    "  h = HTML.find_all(\"div\", {\"class\": \"jeg_meta_date\"})\n",
    "  return str(h[0].text).replace(\"\\n\",\"\").replace(\"\\t\", \"\").replace(\"\\r\", \"\")\n"
   ]
  },
  {
   "cell_type": "code",
   "execution_count": 12,
   "id": "0efc9cfc",
   "metadata": {
    "execution": {
     "iopub.execute_input": "2022-07-15T10:09:01.006696Z",
     "iopub.status.busy": "2022-07-15T10:09:01.005696Z",
     "iopub.status.idle": "2022-07-15T10:09:01.008055Z",
     "shell.execute_reply": "2022-07-15T10:09:01.007428Z"
    },
    "jupyter": {
     "source_hidden": true
    },
    "papermill": {
     "duration": 0.095155,
     "end_time": "2022-07-15T10:09:01.008204",
     "exception": false,
     "start_time": "2022-07-15T10:09:00.913049",
     "status": "completed"
    },
    "tags": []
   },
   "outputs": [],
   "source": [
    "def getArticleCommentList(HTML):\n",
    "    try:\n",
    "        return \"|\".join([i.text for i in HTML.find_all('ol',{'class', 'commentlist'})[0].find_all('p')])\n",
    "    except:\n",
    "        return \"\""
   ]
  },
  {
   "cell_type": "code",
   "execution_count": 13,
   "id": "d7602678",
   "metadata": {
    "execution": {
     "iopub.execute_input": "2022-07-15T10:09:01.231752Z",
     "iopub.status.busy": "2022-07-15T10:09:01.230888Z",
     "iopub.status.idle": "2022-07-15T10:09:01.369977Z",
     "shell.execute_reply": "2022-07-15T10:09:01.370719Z"
    },
    "jupyter": {
     "source_hidden": true
    },
    "papermill": {
     "duration": 0.244681,
     "end_time": "2022-07-15T10:09:01.370903",
     "exception": false,
     "start_time": "2022-07-15T10:09:01.126222",
     "status": "completed"
    },
    "tags": []
   },
   "outputs": [],
   "source": [
    "def getNewLinks(category, checkPoint):\n",
    "    driver = webdriver.Chrome('/usr/lib/chromium-browser/chromedriver',chrome_options=chrome_options)\n",
    "    driver.get(f\"https://www.xalimasn.com/rubrique/politique/{category}/\")\n",
    "    SCROLL_PAUSE_TIME = 2.5\n",
    "    i = 0\n",
    "    last_height = driver.execute_script(\"return document.body.scrollHeight\")\n",
    "    while True:\n",
    "        driver.execute_script(\"window.scrollTo(0, document.body.scrollHeight);\")\n",
    "        time.sleep(SCROLL_PAUSE_TIME)\n",
    "        new_height = driver.execute_script(\"return document.body.scrollHeight\")\n",
    "        page =  BeautifulSoup(driver.page_source, \"html.parser\")\n",
    "        _links = [i.find('a', href=True)['href'] for i in page.find_all(\"div\",{\"class\":\"jeg_main_content jeg_column col-sm-6\"})[0].find_all(\"article\")]\n",
    "        if checkPoint[0] in _links or checkPoint[1] in _links:\n",
    "            try:\n",
    "                lastIndex = _links.index(checkPoint[0])\n",
    "            except: lastIndex = _links.index(checkPoint[0])\n",
    "            return _links[:lastIndex]\n",
    "        if new_height == last_height:\n",
    "            if i>3 :return _links\n",
    "            else: i+=1\n",
    "        last_height = new_height\n",
    "        \n",
    "\n",
    "        \n",
    "        \n",
    "def getArticle(link,category):\n",
    "        try:\n",
    "            p = getWebPage(link)\n",
    "            _title      = getArticleTitle(p)\n",
    "            _article    = getArticleContent(p)\n",
    "            _date       = getArticleDate(p)\n",
    "            _author     = getArticleAuthor(p)\n",
    "            _commments  = getArticleCommentList(p)\n",
    "            return [1,{'DATE_SCRAPING':str(datetime.today()),\n",
    "                  'DATE':parseDate(_date),\n",
    "                  'DATE_ARTICLE':_date,\n",
    "                  'CATEGORY':category,\n",
    "                  'URL':link,\n",
    "                  \"AUTEUR\":_author,\n",
    "                  \"TITRE\":_title,\n",
    "                  \"SITE\":SITE,\n",
    "                  \"CONTENU\":_article,\n",
    "                  \"COMMENTAIRES\":_commments,}]\n",
    "        except:\n",
    "            return [0,link]\n",
    "\n",
    "\n",
    "def updateJson(path, key, value):\n",
    "    if not os.path.exists(path):\n",
    "        _data = {key:[]}\n",
    "    else:\n",
    "        try:\n",
    "            jsonFile = open(path, \"r\",encoding='utf-8')\n",
    "            _data = json.load(jsonFile)\n",
    "            jsonFile.close()\n",
    "        except:\n",
    "            print(\"error UpdateJson\")\n",
    "    _data[key].append(value)\n",
    "    jsonFile = open(path, \"w+\", encoding ='utf-8')\n",
    "    jsonFile.write(json.dumps(_data, default=str))\n",
    "    jsonFile.close()\n",
    "        \n",
    "def saveArticle(document):\n",
    "    try:\n",
    "        Y = document[\"DATE\"].year\n",
    "        M = document[\"DATE\"].month\n",
    "    except:print(document)\n",
    "    if not os.path.exists(f\"/data/notebooks/DB/DATA/{Y}\"):\n",
    "        os.mkdir(f\"/data/notebooks/DB/DATA/{Y}\") \n",
    "    if not os.path.exists(f\"/data/notebooks/DB/DATA/{Y}/{M}\"):\n",
    "        os.mkdir(f\"/data/notebooks/DB/DATA/{Y}/{M}\")\n",
    "    return updateJson(f\"/data/notebooks/DB/DATA/{Y}/{M}/DATA{ID}.json\", \"DATA\", document)\n",
    "\n",
    "\n",
    "def saveErrors(errList):\n",
    "    path =  f\"/data/notebooks/DB/ERRORLOGS/ERRLOGS{ID}.json\"\n",
    "    Y = datetime.today().year\n",
    "    M = datetime.today().month\n",
    "    try:\n",
    "        jsonFile = open(path, \"r\",encoding='utf-8')\n",
    "        _data = json.load(jsonFile)\n",
    "        jsonFile.close()\n",
    "    except:\n",
    "        print(\"error in saveErrors\")\n",
    "        \n",
    "    if f\"{Y}{M}\" not in _data: \n",
    "        _data[f\"{Y}{M}\"] = [errList]\n",
    "    else:\n",
    "        _data[f\"{Y}{M}\"].append(errList)\n",
    "    jsonFile = open(path, \"w+\", encoding ='utf-8')\n",
    "    jsonFile.write(json.dumps(_data, default=str))\n",
    "    jsonFile.close()\n",
    "\n",
    "\n",
    "def checkPoint(category, link=None):\n",
    "    path = f\"/data/notebooks/DB/CHECKPOINT/CP{ID}.json\"\n",
    "    try:\n",
    "        jsonFile = open(path, \"r\",encoding='utf-8')\n",
    "        _data = json.load(jsonFile)\n",
    "        jsonFile.close()\n",
    "    except:\n",
    "        print(\"ERR\")\n",
    "    if link == None: return [_data[category][\"cp1\"], _data[category][\"cp2\"]]\n",
    "    _data[category][\"cp2\"] = _data[category][\"cp1\"]\n",
    "    _data[category][\"cp1\"] = link\n",
    "    _data[category][\"time\"] = str(datetime.today())\n",
    "    jsonFile = open(path, \"w+\", encoding ='utf-8')\n",
    "    jsonFile.write(json.dumps(_data))\n",
    "    jsonFile.close()\n",
    "    \n",
    "    \n",
    "def update():\n",
    "    error=[]\n",
    "    for category in categories:\n",
    "        _checkPoint = checkPoint(category)\n",
    "        print(category)\n",
    "        links = getNewLinks(category, _checkPoint)\n",
    "        i = 0\n",
    "        for link in links[::-1]:\n",
    "            i+=1\n",
    "            status, document = getArticle(link,category)\n",
    "            if status==0:error.append(document); continue\n",
    "            saveArticle(document)\n",
    "            checkPoint(category,link)\n",
    "    saveErrors(error)\n",
    "\n",
    "\n",
    "def initCP():\n",
    "    path = f\"/data/notebooks/DB/CHECKPOINT/CP{ID}.json\"\n",
    "    _data = {}\n",
    "    for c in categories:\n",
    "        _data[c] =\"\"\n",
    "    jsonFile = open(path, \"w+\", encoding ='utf-8')\n",
    "    jsonFile.write(json.dumps(_data))\n",
    "    jsonFile.close()"
   ]
  },
  {
   "cell_type": "code",
   "execution_count": null,
   "id": "5a1878b3",
   "metadata": {
    "jupyter": {
     "source_hidden": true
    },
    "papermill": {
     "duration": null,
     "end_time": null,
     "exception": false,
     "start_time": "2022-07-15T10:09:01.424217",
     "status": "running"
    },
    "tags": []
   },
   "outputs": [],
   "source": [
    "update()"
   ]
  }
 ],
 "metadata": {
  "kernelspec": {
   "display_name": "Python 3",
   "language": "python",
   "name": "python3"
  },
  "language_info": {
   "codemirror_mode": {
    "name": "ipython",
    "version": 3
   },
   "file_extension": ".py",
   "mimetype": "text/x-python",
   "name": "python",
   "nbconvert_exporter": "python",
   "pygments_lexer": "ipython3",
   "version": "3.6.9"
  },
  "papermill": {
   "default_parameters": {},
   "duration": null,
   "end_time": null,
   "environment_variables": {},
   "exception": null,
   "input_path": "/data/notebooks/SN/Scraper004[xalimasn.com].ipynb",
   "output_path": "/data/notebooks/logs/Scraper004.ipynb",
   "parameters": {
    "msgs": "Ran from Airflow at 2022-07-09T04:00:00+00:00!"
   },
   "start_time": "2022-07-15T10:08:48.765428",
   "version": "2.3.4"
  }
 },
 "nbformat": 4,
 "nbformat_minor": 5
}