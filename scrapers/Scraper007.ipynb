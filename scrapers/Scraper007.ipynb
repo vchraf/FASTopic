{
 "cells": [
  {
   "cell_type": "code",
   "execution_count": 1,
   "id": "6a51f520",
   "metadata": {
    "execution": {
     "iopub.execute_input": "2022-07-15T10:08:57.335461Z",
     "iopub.status.busy": "2022-07-15T10:08:57.334220Z",
     "iopub.status.idle": "2022-07-15T10:08:57.336727Z",
     "shell.execute_reply": "2022-07-15T10:08:57.337212Z"
    },
    "jupyter": {
     "source_hidden": true
    },
    "papermill": {
     "duration": 0.066527,
     "end_time": "2022-07-15T10:08:57.345618",
     "exception": false,
     "start_time": "2022-07-15T10:08:57.279091",
     "status": "completed"
    },
    "tags": [
     "injected-parameters"
    ]
   },
   "outputs": [],
   "source": [
    "# Parameters\n",
    "msgs = \"Ran from Airflow at 2022-07-09T04:00:00+00:00!\"\n"
   ]
  },
  {
   "cell_type": "code",
   "execution_count": 2,
   "id": "96b9631a",
   "metadata": {
    "execution": {
     "iopub.execute_input": "2022-07-15T10:08:57.431235Z",
     "iopub.status.busy": "2022-07-15T10:08:57.430463Z",
     "iopub.status.idle": "2022-07-15T10:09:01.057192Z",
     "shell.execute_reply": "2022-07-15T10:09:01.057897Z"
    },
    "jupyter": {
     "source_hidden": true
    },
    "papermill": {
     "duration": 3.676397,
     "end_time": "2022-07-15T10:09:01.058067",
     "exception": false,
     "start_time": "2022-07-15T10:08:57.381670",
     "status": "completed"
    },
    "tags": []
   },
   "outputs": [],
   "source": [
    "import time\n",
    "import os\n",
    "import requests\n",
    "import urllib.request\n",
    "import urllib.parse\n",
    "import json\n",
    "import re\n",
    "import collections\n",
    "import pandas as pd\n",
    "import bs4\n",
    "from bs4 import BeautifulSoup\n",
    "import dateparser\n",
    "from datetime import datetime\n",
    "import numpy as np"
   ]
  },
  {
   "cell_type": "code",
   "execution_count": 3,
   "id": "9cdf61b8",
   "metadata": {
    "execution": {
     "iopub.execute_input": "2022-07-15T10:09:01.160042Z",
     "iopub.status.busy": "2022-07-15T10:09:01.158510Z",
     "iopub.status.idle": "2022-07-15T10:09:01.160797Z",
     "shell.execute_reply": "2022-07-15T10:09:01.159287Z"
    },
    "jupyter": {
     "source_hidden": true
    },
    "papermill": {
     "duration": 0.083411,
     "end_time": "2022-07-15T10:09:01.160958",
     "exception": false,
     "start_time": "2022-07-15T10:09:01.077547",
     "status": "completed"
    },
    "tags": []
   },
   "outputs": [],
   "source": [
    "ID = '007'\n",
    "SITE = 'senego.com'"
   ]
  },
  {
   "cell_type": "code",
   "execution_count": 4,
   "id": "008626af",
   "metadata": {
    "execution": {
     "iopub.execute_input": "2022-07-15T10:09:01.318140Z",
     "iopub.status.busy": "2022-07-15T10:09:01.317304Z",
     "iopub.status.idle": "2022-07-15T10:09:01.319692Z",
     "shell.execute_reply": "2022-07-15T10:09:01.318983Z"
    },
    "jupyter": {
     "source_hidden": true
    },
    "papermill": {
     "duration": 0.111571,
     "end_time": "2022-07-15T10:09:01.319862",
     "exception": false,
     "start_time": "2022-07-15T10:09:01.208291",
     "status": "completed"
    },
    "tags": []
   },
   "outputs": [],
   "source": [
    "categories = [\"politique\",\"sport\",\"divertissement-2\"]"
   ]
  },
  {
   "cell_type": "code",
   "execution_count": 5,
   "id": "c7c458f5",
   "metadata": {
    "execution": {
     "iopub.execute_input": "2022-07-15T10:09:01.542956Z",
     "iopub.status.busy": "2022-07-15T10:09:01.541073Z",
     "iopub.status.idle": "2022-07-15T10:09:01.563294Z",
     "shell.execute_reply": "2022-07-15T10:09:01.542264Z"
    },
    "jupyter": {
     "source_hidden": true
    },
    "papermill": {
     "duration": 0.149905,
     "end_time": "2022-07-15T10:09:01.563523",
     "exception": false,
     "start_time": "2022-07-15T10:09:01.413618",
     "status": "completed"
    },
    "tags": []
   },
   "outputs": [],
   "source": [
    "def parseDate(date):\n",
    "    try:\n",
    "        return datetime.strptime(str(date), '%Y-%m-%dT%H:%M:%S+00:00')\n",
    "    except:\n",
    "        return dateparser.parse(date)"
   ]
  },
  {
   "cell_type": "code",
   "execution_count": 6,
   "id": "a357d3e7",
   "metadata": {
    "execution": {
     "iopub.execute_input": "2022-07-15T10:09:01.674283Z",
     "iopub.status.busy": "2022-07-15T10:09:01.673498Z",
     "iopub.status.idle": "2022-07-15T10:09:01.690323Z",
     "shell.execute_reply": "2022-07-15T10:09:01.678468Z"
    },
    "jupyter": {
     "source_hidden": true
    },
    "papermill": {
     "duration": 0.066428,
     "end_time": "2022-07-15T10:09:01.690524",
     "exception": false,
     "start_time": "2022-07-15T10:09:01.624096",
     "status": "completed"
    },
    "tags": []
   },
   "outputs": [],
   "source": [
    "def getWebPage(URL):\n",
    "    headers = {'User-Agent': 'Mozilla/5.0 (Macintosh; Intel Mac OS X 10_10_1) AppleWebKit/537.36 (KHTML, like Gecko) Chrome/39.0.2171.95 Safari/537.36'}\n",
    "    page  = requests.get(URL,headers)\n",
    "    return BeautifulSoup(page.text, \"html.parser\")"
   ]
  },
  {
   "cell_type": "code",
   "execution_count": 7,
   "id": "12edc2e4",
   "metadata": {
    "execution": {
     "iopub.execute_input": "2022-07-15T10:09:01.794945Z",
     "iopub.status.busy": "2022-07-15T10:09:01.794114Z",
     "iopub.status.idle": "2022-07-15T10:09:01.796106Z",
     "shell.execute_reply": "2022-07-15T10:09:01.796830Z"
    },
    "jupyter": {
     "source_hidden": true
    },
    "papermill": {
     "duration": 0.048254,
     "end_time": "2022-07-15T10:09:01.796988",
     "exception": false,
     "start_time": "2022-07-15T10:09:01.748734",
     "status": "completed"
    },
    "tags": []
   },
   "outputs": [],
   "source": [
    "def getArticleTitle(HTML):       \n",
    "  h = HTML.find_all(\"h1\")\n",
    "  return str(h[0].text).replace(\"\\n\",\"\").replace(\"\\t\", \"\").replace(\"\\r\", \"\").strip()"
   ]
  },
  {
   "cell_type": "code",
   "execution_count": 8,
   "id": "1dc0ce75",
   "metadata": {
    "execution": {
     "iopub.execute_input": "2022-07-15T10:09:01.856863Z",
     "iopub.status.busy": "2022-07-15T10:09:01.856058Z",
     "iopub.status.idle": "2022-07-15T10:09:01.858215Z",
     "shell.execute_reply": "2022-07-15T10:09:01.857716Z"
    },
    "jupyter": {
     "source_hidden": true
    },
    "papermill": {
     "duration": 0.039849,
     "end_time": "2022-07-15T10:09:01.858337",
     "exception": false,
     "start_time": "2022-07-15T10:09:01.818488",
     "status": "completed"
    },
    "tags": []
   },
   "outputs": [],
   "source": [
    "def getArticleContent(HTML):\n",
    "  h = HTML.find_all(\"div\", {\"class\": \"entry-content\"})[0].find_all(\"p\")\n",
    "  return \" \".join([i.text for i in h])"
   ]
  },
  {
   "cell_type": "code",
   "execution_count": 9,
   "id": "8a9ebde6",
   "metadata": {
    "execution": {
     "iopub.execute_input": "2022-07-15T10:09:01.940101Z",
     "iopub.status.busy": "2022-07-15T10:09:01.939261Z",
     "iopub.status.idle": "2022-07-15T10:09:01.942044Z",
     "shell.execute_reply": "2022-07-15T10:09:01.956911Z"
    },
    "jupyter": {
     "source_hidden": true
    },
    "papermill": {
     "duration": 0.075051,
     "end_time": "2022-07-15T10:09:01.957107",
     "exception": false,
     "start_time": "2022-07-15T10:09:01.882056",
     "status": "completed"
    },
    "tags": []
   },
   "outputs": [],
   "source": [
    "def getArticleAuthor(HTML):\n",
    "    try:\n",
    "        h = HTML.find_all(\"div\", {\"class\": \"author_name\"})\n",
    "        return h[0].text\n",
    "    except: return \"\""
   ]
  },
  {
   "cell_type": "code",
   "execution_count": 10,
   "id": "bd94f84f",
   "metadata": {
    "execution": {
     "iopub.execute_input": "2022-07-15T10:09:02.066412Z",
     "iopub.status.busy": "2022-07-15T10:09:02.065575Z",
     "iopub.status.idle": "2022-07-15T10:09:02.067253Z",
     "shell.execute_reply": "2022-07-15T10:09:02.070101Z"
    },
    "jupyter": {
     "source_hidden": true
    },
    "papermill": {
     "duration": 0.054745,
     "end_time": "2022-07-15T10:09:02.070275",
     "exception": false,
     "start_time": "2022-07-15T10:09:02.015530",
     "status": "completed"
    },
    "tags": []
   },
   "outputs": [],
   "source": [
    "def getArticleDate(HTML):\n",
    "    try:\n",
    "        h = HTML.find_all(\"time\", {\"class\": \"single-post-time publie\"})[0]\n",
    "        return h['datetime']\n",
    "    except: return \"\""
   ]
  },
  {
   "cell_type": "code",
   "execution_count": 11,
   "id": "68d380cd",
   "metadata": {
    "execution": {
     "iopub.execute_input": "2022-07-15T10:09:02.140773Z",
     "iopub.status.busy": "2022-07-15T10:09:02.139985Z",
     "iopub.status.idle": "2022-07-15T10:09:02.221534Z",
     "shell.execute_reply": "2022-07-15T10:09:02.222224Z"
    },
    "jupyter": {
     "source_hidden": true
    },
    "papermill": {
     "duration": 0.114999,
     "end_time": "2022-07-15T10:09:02.222397",
     "exception": false,
     "start_time": "2022-07-15T10:09:02.107398",
     "status": "completed"
    },
    "tags": []
   },
   "outputs": [],
   "source": [
    "def getLinks(category, index):\n",
    "    page = getWebPage(f'https://senego.com/rubrique/{category}/page/{index}/')\n",
    "    _links = [i for i in page.find_all('article')]\n",
    "    if len(_links) == 0: return []\n",
    "    return [i.find('a', href=True)['href'] for i in _links]\n",
    "\n",
    "\n",
    "\n",
    "def getNewLinks(category, checkPoint):\n",
    "    index = 1\n",
    "    links = []\n",
    "    while(True):\n",
    "        _links = getLinks(category, index)\n",
    "        if _links == []:return links\n",
    "        if checkPoint[0] in _links or checkPoint[1] in _links:\n",
    "            try:\n",
    "                lastIndex = _links.index(checkPoint[0])\n",
    "            except: lastIndex = _links.index(checkPoint[0])\n",
    "            if lastIndex == 0:\n",
    "                return []\n",
    "            else:\n",
    "                links.extend(_links)\n",
    "                return links[:lastIndex]\n",
    "        else:\n",
    "            links.extend(_links)\n",
    "            index+=1\n",
    "    return links       \n",
    "\n",
    "\n",
    "\n",
    "def getArticle(link,category):\n",
    "        try:\n",
    "            p = getWebPage(link)\n",
    "            _title      = getArticleTitle(p)\n",
    "            _article    = getArticleContent(p)\n",
    "            _date       = getArticleDate(p)\n",
    "            _author     = getArticleAuthor(p)\n",
    "            _commments  = \"\"\n",
    "            return [1,{'DATE_SCRAPING':str(datetime.today()),\n",
    "                  'DATE':parseDate(_date),\n",
    "                  'DATE_ARTICLE':_date,\n",
    "                  'CATEGORY':category,\n",
    "                  'URL':link,\n",
    "                  \"AUTEUR\":_author,\n",
    "                  \"TITRE\":_title,\n",
    "                  \"SITE\":SITE,\n",
    "                  \"CONTENU\":_article,\n",
    "                  \"COMMENTAIRES\":_commments,}]\n",
    "        except:\n",
    "            return [0,link]\n",
    "\n",
    "\n",
    "\n",
    "\n",
    "def updateJson(path, key, value):\n",
    "    if not os.path.exists(path):\n",
    "        _data = {key:[]}\n",
    "    else:\n",
    "        try:\n",
    "            jsonFile = open(path, \"r\",encoding='utf-8')\n",
    "            _data = json.load(jsonFile)\n",
    "            jsonFile.close()\n",
    "        except:\n",
    "            print(\"error UpdateJson\")\n",
    "    _data[key].append(value)\n",
    "    jsonFile = open(path, \"w+\", encoding ='utf-8')\n",
    "    jsonFile.write(json.dumps(_data, default=str))\n",
    "    jsonFile.close()\n",
    "\n",
    "\n",
    "\n",
    "def saveArticle(document):\n",
    "    try:\n",
    "        Y = document[\"DATE\"].year\n",
    "        M = document[\"DATE\"].month\n",
    "    except:print(document[\"DATE\"])\n",
    "    if not os.path.exists(f\"/data/notebooks/DB/DATA/{Y}\"):\n",
    "        os.mkdir(f\"/data/notebooks/DB/DATA/{Y}\") \n",
    "    if not os.path.exists(f\"/data/notebooks/DB/DATA/{Y}/{M}\"):\n",
    "        os.mkdir(f\"/data/notebooks/DB/DATA/{Y}/{M}\")\n",
    "    return updateJson(f\"/data/notebooks/DB/DATA/{Y}/{M}/DATA{ID}.json\", \"DATA\", document)\n",
    "\n",
    "\n",
    "def saveErrors(errList):\n",
    "    path =  f\"/data/notebooks/DB/ERRORLOGS/ERRLOGS{ID}.json\"\n",
    "    Y = datetime.today().year\n",
    "    M = datetime.today().month\n",
    "    try:\n",
    "        jsonFile = open(path, \"r\",encoding='utf-8')\n",
    "        _data = json.load(jsonFile)\n",
    "        jsonFile.close()\n",
    "    except:\n",
    "        print(\"error in saveErrors\")\n",
    "        \n",
    "    if f\"{Y}{M}\" not in _data: \n",
    "        _data[f\"{Y}{M}\"] = [errList]\n",
    "    else:\n",
    "        _data[f\"{Y}{M}\"].append(errList)\n",
    "    jsonFile = open(path, \"w+\", encoding ='utf-8')\n",
    "    jsonFile.write(json.dumps(_data, default=str))\n",
    "    jsonFile.close()\n",
    "\n",
    "\n",
    "\n",
    "def checkPoint(category, link=None):\n",
    "    path = f\"/data/notebooks/DB/CHECKPOINT/CP{ID}.json\"\n",
    "    try:\n",
    "        jsonFile = open(path, \"r\",encoding='utf-8')\n",
    "        _data = json.load(jsonFile)\n",
    "        jsonFile.close()\n",
    "    except:\n",
    "        print(\"ERR\")\n",
    "    if link == None: return [_data[category][\"cp1\"], _data[category][\"cp2\"]]\n",
    "    _data[category][\"cp2\"] = _data[category][\"cp1\"]\n",
    "    _data[category][\"cp1\"] = link\n",
    "    _data[category][\"time\"] = str(datetime.today())\n",
    "    jsonFile = open(path, \"w+\", encoding ='utf-8')\n",
    "    jsonFile.write(json.dumps(_data))\n",
    "    jsonFile.close()\n",
    "\n",
    "\n",
    "    \n",
    "def update():\n",
    "    error=[]\n",
    "    for category in categories:\n",
    "        _checkPoint = checkPoint(category)\n",
    "        links = getNewLinks(category, _checkPoint)\n",
    "        i = 0\n",
    "        for link in links[::-1]:\n",
    "            i+=1\n",
    "            status, document = getArticle(link,category)\n",
    "            if status==0:error.append(document); continue\n",
    "            saveArticle(document)\n",
    "            checkPoint(category,link)\n",
    "    saveErrors(error)\n",
    "\n",
    "\n",
    "def initCP():\n",
    "    path = f\"/data/notebooks/DB/CHECKPOINT/CP{ID}.json\"\n",
    "    _data = {}\n",
    "    for c in categories:\n",
    "        _data[c] =\"\"\n",
    "    jsonFile = open(path, \"w+\", encoding ='utf-8')\n",
    "    jsonFile.write(json.dumps(_data))\n",
    "    jsonFile.close()"
   ]
  },
  {
   "cell_type": "code",
   "execution_count": 12,
   "id": "db1cd8e6",
   "metadata": {
    "execution": {
     "iopub.execute_input": "2022-07-15T10:09:02.293156Z",
     "iopub.status.busy": "2022-07-15T10:09:02.292384Z",
     "iopub.status.idle": "2022-07-15T10:09:03.095053Z",
     "shell.execute_reply": "2022-07-15T10:09:03.095734Z"
    },
    "jupyter": {
     "source_hidden": true
    },
    "papermill": {
     "duration": 0.852533,
     "end_time": "2022-07-15T10:09:03.095905",
     "exception": false,
     "start_time": "2022-07-15T10:09:02.243372",
     "status": "completed"
    },
    "tags": []
   },
   "outputs": [],
   "source": [
    "update()"
   ]
  }
 ],
 "metadata": {
  "kernelspec": {
   "display_name": "Python 3",
   "language": "python",
   "name": "python3"
  },
  "language_info": {
   "codemirror_mode": {
    "name": "ipython",
    "version": 3
   },
   "file_extension": ".py",
   "mimetype": "text/x-python",
   "name": "python",
   "nbconvert_exporter": "python",
   "pygments_lexer": "ipython3",
   "version": "3.6.9"
  },
  "papermill": {
   "default_parameters": {},
   "duration": 11.523859,
   "end_time": "2022-07-15T10:09:04.777549",
   "environment_variables": {},
   "exception": null,
   "input_path": "/data/notebooks/SN/Scraper007[senego.com].ipynb",
   "output_path": "/data/notebooks/logs/Scraper007.ipynb",
   "parameters": {
    "msgs": "Ran from Airflow at 2022-07-09T04:00:00+00:00!"
   },
   "start_time": "2022-07-15T10:08:53.253690",
   "version": "2.3.4"
  }
 },
 "nbformat": 4,
 "nbformat_minor": 5
}